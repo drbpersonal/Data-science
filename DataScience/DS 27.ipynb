{
 "cells": [
  {
   "cell_type": "code",
   "execution_count": 1,
   "id": "75e34b19-36d8-44b3-a247-b61156e34016",
   "metadata": {},
   "outputs": [],
   "source": [
    "import nltk"
   ]
  },
  {
   "cell_type": "code",
   "execution_count": 2,
   "id": "11bb8cb5-b42e-4d53-9aa2-5c798e92fbdf",
   "metadata": {},
   "outputs": [],
   "source": [
    "import numpy as np\n",
    "import pandas as pd\n",
    "import matplotlib.pyplot as plt"
   ]
  },
  {
   "cell_type": "code",
   "execution_count": 3,
   "id": "0a150041-0b8c-4399-8fc4-ee1ffcc57e95",
   "metadata": {},
   "outputs": [],
   "source": [
    "par = \"\"\"This forest is taking our friends away, and this is the worst, he said. \"And when I think about how far we still need to move forward ; most likely someday I will be the one to remain lying in the forest, and my friends will just go forward.\n",
    "\"This stretch of dead forest leading toward the village of Andriivka is one of countless like it on the road to Russian-controlled Bakhmut, which has huge symbolic significance in the Ukrainian counteroffensive.\n",
    "The Associated Press spent two weeks with the brigade for an intimate glimpse into the speed, direction and cost of the counteroffensive.\n",
    "\"\"\""
   ]
  },
  {
   "cell_type": "code",
   "execution_count": 4,
   "id": "5ad94972-e55c-4e8d-b417-d056a2a00c78",
   "metadata": {},
   "outputs": [],
   "source": [
    "from nltk.corpus import stopwords"
   ]
  },
  {
   "cell_type": "code",
   "execution_count": 5,
   "id": "06199a3e-c61a-4aeb-8f56-5607fa168d18",
   "metadata": {},
   "outputs": [],
   "source": [
    "from nltk.tokenize import sent_tokenize, word_tokenize"
   ]
  },
  {
   "cell_type": "code",
   "execution_count": 6,
   "id": "e9c92655-63e0-48c2-9ddb-09b9e9b6a59c",
   "metadata": {},
   "outputs": [],
   "source": [
    "from nltk.stem import PorterStemmer, LancasterStemmer, SnowballStemmer "
   ]
  },
  {
   "cell_type": "code",
   "execution_count": 7,
   "id": "bacfcac4-7563-418c-99ec-cd1ae2c1d91b",
   "metadata": {},
   "outputs": [],
   "source": [
    "# nltk.download('punkt')"
   ]
  },
  {
   "cell_type": "code",
   "execution_count": 8,
   "id": "b4d0cfb9-38eb-4f1e-be7c-f01f8180c04e",
   "metadata": {},
   "outputs": [],
   "source": [
    "sentences = sent_tokenize(par)"
   ]
  },
  {
   "cell_type": "code",
   "execution_count": 9,
   "id": "ca18176f-5d51-4bf9-882a-105a8430a80c",
   "metadata": {},
   "outputs": [
    {
     "data": {
      "text/plain": [
       "['This forest is taking our friends away, and this is the worst, he said.',\n",
       " '\"And when I think about how far we still need to move forward ; most likely someday I will be the one to remain lying in the forest, and my friends will just go forward.',\n",
       " '\"This stretch of dead forest leading toward the village of Andriivka is one of countless like it on the road to Russian-controlled Bakhmut, which has huge symbolic significance in the Ukrainian counteroffensive.',\n",
       " 'The Associated Press spent two weeks with the brigade for an intimate glimpse into the speed, direction and cost of the counteroffensive.']"
      ]
     },
     "execution_count": 9,
     "metadata": {},
     "output_type": "execute_result"
    }
   ],
   "source": [
    "sentences"
   ]
  },
  {
   "cell_type": "code",
   "execution_count": 10,
   "id": "8ef75d29-3b28-443d-9894-92e3d65f0b69",
   "metadata": {},
   "outputs": [
    {
     "data": {
      "text/plain": [
       "4"
      ]
     },
     "execution_count": 10,
     "metadata": {},
     "output_type": "execute_result"
    }
   ],
   "source": [
    "len(sentences)"
   ]
  },
  {
   "cell_type": "code",
   "execution_count": 11,
   "id": "c4f4b790-da1e-4724-9d85-5c20abff9fab",
   "metadata": {},
   "outputs": [
    {
     "data": {
      "text/plain": [
       "['This',\n",
       " 'forest',\n",
       " 'is',\n",
       " 'taking',\n",
       " 'our',\n",
       " 'friends',\n",
       " 'away',\n",
       " ',',\n",
       " 'and',\n",
       " 'this',\n",
       " 'is',\n",
       " 'the',\n",
       " 'worst',\n",
       " ',',\n",
       " 'he',\n",
       " 'said',\n",
       " '.',\n",
       " '``',\n",
       " 'And',\n",
       " 'when',\n",
       " 'I',\n",
       " 'think',\n",
       " 'about',\n",
       " 'how',\n",
       " 'far',\n",
       " 'we',\n",
       " 'still',\n",
       " 'need',\n",
       " 'to',\n",
       " 'move',\n",
       " 'forward',\n",
       " ';',\n",
       " 'most',\n",
       " 'likely',\n",
       " 'someday',\n",
       " 'I',\n",
       " 'will',\n",
       " 'be',\n",
       " 'the',\n",
       " 'one',\n",
       " 'to',\n",
       " 'remain',\n",
       " 'lying',\n",
       " 'in',\n",
       " 'the',\n",
       " 'forest',\n",
       " ',',\n",
       " 'and',\n",
       " 'my',\n",
       " 'friends',\n",
       " 'will',\n",
       " 'just',\n",
       " 'go',\n",
       " 'forward',\n",
       " '.',\n",
       " '``',\n",
       " 'This',\n",
       " 'stretch',\n",
       " 'of',\n",
       " 'dead',\n",
       " 'forest',\n",
       " 'leading',\n",
       " 'toward',\n",
       " 'the',\n",
       " 'village',\n",
       " 'of',\n",
       " 'Andriivka',\n",
       " 'is',\n",
       " 'one',\n",
       " 'of',\n",
       " 'countless',\n",
       " 'like',\n",
       " 'it',\n",
       " 'on',\n",
       " 'the',\n",
       " 'road',\n",
       " 'to',\n",
       " 'Russian-controlled',\n",
       " 'Bakhmut',\n",
       " ',',\n",
       " 'which',\n",
       " 'has',\n",
       " 'huge',\n",
       " 'symbolic',\n",
       " 'significance',\n",
       " 'in',\n",
       " 'the',\n",
       " 'Ukrainian',\n",
       " 'counteroffensive',\n",
       " '.',\n",
       " 'The',\n",
       " 'Associated',\n",
       " 'Press',\n",
       " 'spent',\n",
       " 'two',\n",
       " 'weeks',\n",
       " 'with',\n",
       " 'the',\n",
       " 'brigade',\n",
       " 'for',\n",
       " 'an',\n",
       " 'intimate',\n",
       " 'glimpse',\n",
       " 'into',\n",
       " 'the',\n",
       " 'speed',\n",
       " ',',\n",
       " 'direction',\n",
       " 'and',\n",
       " 'cost',\n",
       " 'of',\n",
       " 'the',\n",
       " 'counteroffensive',\n",
       " '.']"
      ]
     },
     "execution_count": 11,
     "metadata": {},
     "output_type": "execute_result"
    }
   ],
   "source": [
    "word_tokenize(par)"
   ]
  },
  {
   "cell_type": "code",
   "execution_count": 12,
   "id": "1884e5e8-8e59-4c64-96fb-78e0d8abe094",
   "metadata": {},
   "outputs": [],
   "source": [
    "word_tokens = []\n",
    "\n",
    "for each_sentence in sentences:\n",
    "    tokenised = word_tokenize(each_sentence)\n",
    "    word_tokens.append(tokenised)"
   ]
  },
  {
   "cell_type": "code",
   "execution_count": 13,
   "id": "8b8865f4-40b8-4a25-ac01-c17c84110aee",
   "metadata": {},
   "outputs": [
    {
     "data": {
      "text/plain": [
       "['This',\n",
       " 'forest',\n",
       " 'is',\n",
       " 'taking',\n",
       " 'our',\n",
       " 'friends',\n",
       " 'away',\n",
       " ',',\n",
       " 'and',\n",
       " 'this',\n",
       " 'is',\n",
       " 'the',\n",
       " 'worst',\n",
       " ',',\n",
       " 'he',\n",
       " 'said',\n",
       " '.']"
      ]
     },
     "execution_count": 13,
     "metadata": {},
     "output_type": "execute_result"
    }
   ],
   "source": [
    "word_tokens[0]"
   ]
  },
  {
   "cell_type": "code",
   "execution_count": 14,
   "id": "11e5692c-cb4e-4b26-8639-f347e6156b9c",
   "metadata": {},
   "outputs": [
    {
     "data": {
      "text/plain": [
       "'This forest is taking our friends away, and this is the worst, he said.'"
      ]
     },
     "execution_count": 14,
     "metadata": {},
     "output_type": "execute_result"
    }
   ],
   "source": [
    "sentences[0]"
   ]
  },
  {
   "cell_type": "code",
   "execution_count": 15,
   "id": "72180561-6f88-44c9-877d-6658390df94a",
   "metadata": {},
   "outputs": [],
   "source": [
    "# nltk.download('stopwords')"
   ]
  },
  {
   "cell_type": "code",
   "execution_count": 16,
   "id": "bf7fa450-8963-4325-a47d-5ca3292273a6",
   "metadata": {},
   "outputs": [],
   "source": [
    "stop_words = stopwords.words('english')"
   ]
  },
  {
   "cell_type": "code",
   "execution_count": 17,
   "id": "8248c1ea-17bf-4624-896a-d2c856a19251",
   "metadata": {},
   "outputs": [
    {
     "data": {
      "text/plain": [
       "['i',\n",
       " 'me',\n",
       " 'my',\n",
       " 'myself',\n",
       " 'we',\n",
       " 'our',\n",
       " 'ours',\n",
       " 'ourselves',\n",
       " 'you',\n",
       " \"you're\",\n",
       " \"you've\",\n",
       " \"you'll\",\n",
       " \"you'd\",\n",
       " 'your',\n",
       " 'yours',\n",
       " 'yourself',\n",
       " 'yourselves',\n",
       " 'he',\n",
       " 'him',\n",
       " 'his',\n",
       " 'himself',\n",
       " 'she',\n",
       " \"she's\",\n",
       " 'her',\n",
       " 'hers',\n",
       " 'herself',\n",
       " 'it',\n",
       " \"it's\",\n",
       " 'its',\n",
       " 'itself',\n",
       " 'they',\n",
       " 'them',\n",
       " 'their',\n",
       " 'theirs',\n",
       " 'themselves',\n",
       " 'what',\n",
       " 'which',\n",
       " 'who',\n",
       " 'whom',\n",
       " 'this',\n",
       " 'that',\n",
       " \"that'll\",\n",
       " 'these',\n",
       " 'those',\n",
       " 'am',\n",
       " 'is',\n",
       " 'are',\n",
       " 'was',\n",
       " 'were',\n",
       " 'be',\n",
       " 'been',\n",
       " 'being',\n",
       " 'have',\n",
       " 'has',\n",
       " 'had',\n",
       " 'having',\n",
       " 'do',\n",
       " 'does',\n",
       " 'did',\n",
       " 'doing',\n",
       " 'a',\n",
       " 'an',\n",
       " 'the',\n",
       " 'and',\n",
       " 'but',\n",
       " 'if',\n",
       " 'or',\n",
       " 'because',\n",
       " 'as',\n",
       " 'until',\n",
       " 'while',\n",
       " 'of',\n",
       " 'at',\n",
       " 'by',\n",
       " 'for',\n",
       " 'with',\n",
       " 'about',\n",
       " 'against',\n",
       " 'between',\n",
       " 'into',\n",
       " 'through',\n",
       " 'during',\n",
       " 'before',\n",
       " 'after',\n",
       " 'above',\n",
       " 'below',\n",
       " 'to',\n",
       " 'from',\n",
       " 'up',\n",
       " 'down',\n",
       " 'in',\n",
       " 'out',\n",
       " 'on',\n",
       " 'off',\n",
       " 'over',\n",
       " 'under',\n",
       " 'again',\n",
       " 'further',\n",
       " 'then',\n",
       " 'once',\n",
       " 'here',\n",
       " 'there',\n",
       " 'when',\n",
       " 'where',\n",
       " 'why',\n",
       " 'how',\n",
       " 'all',\n",
       " 'any',\n",
       " 'both',\n",
       " 'each',\n",
       " 'few',\n",
       " 'more',\n",
       " 'most',\n",
       " 'other',\n",
       " 'some',\n",
       " 'such',\n",
       " 'no',\n",
       " 'nor',\n",
       " 'not',\n",
       " 'only',\n",
       " 'own',\n",
       " 'same',\n",
       " 'so',\n",
       " 'than',\n",
       " 'too',\n",
       " 'very',\n",
       " 's',\n",
       " 't',\n",
       " 'can',\n",
       " 'will',\n",
       " 'just',\n",
       " 'don',\n",
       " \"don't\",\n",
       " 'should',\n",
       " \"should've\",\n",
       " 'now',\n",
       " 'd',\n",
       " 'll',\n",
       " 'm',\n",
       " 'o',\n",
       " 're',\n",
       " 've',\n",
       " 'y',\n",
       " 'ain',\n",
       " 'aren',\n",
       " \"aren't\",\n",
       " 'couldn',\n",
       " \"couldn't\",\n",
       " 'didn',\n",
       " \"didn't\",\n",
       " 'doesn',\n",
       " \"doesn't\",\n",
       " 'hadn',\n",
       " \"hadn't\",\n",
       " 'hasn',\n",
       " \"hasn't\",\n",
       " 'haven',\n",
       " \"haven't\",\n",
       " 'isn',\n",
       " \"isn't\",\n",
       " 'ma',\n",
       " 'mightn',\n",
       " \"mightn't\",\n",
       " 'mustn',\n",
       " \"mustn't\",\n",
       " 'needn',\n",
       " \"needn't\",\n",
       " 'shan',\n",
       " \"shan't\",\n",
       " 'shouldn',\n",
       " \"shouldn't\",\n",
       " 'wasn',\n",
       " \"wasn't\",\n",
       " 'weren',\n",
       " \"weren't\",\n",
       " 'won',\n",
       " \"won't\",\n",
       " 'wouldn',\n",
       " \"wouldn't\"]"
      ]
     },
     "execution_count": 17,
     "metadata": {},
     "output_type": "execute_result"
    }
   ],
   "source": [
    "stop_words"
   ]
  },
  {
   "cell_type": "code",
   "execution_count": 18,
   "id": "344be726-7f15-4692-b53c-b5c4e886ebc6",
   "metadata": {},
   "outputs": [
    {
     "data": {
      "text/plain": [
       "['.', ',', ':', ';', '!', '?', \"'\", '\"', '-', '(', ')', '``']"
      ]
     },
     "execution_count": 18,
     "metadata": {},
     "output_type": "execute_result"
    }
   ],
   "source": [
    "common_punctuatuon = ['.', ',', ':', ';', '!', '?', \"'\", '\"', \"-\", '(', ')', '``']\n",
    "common_punctuatuon"
   ]
  },
  {
   "cell_type": "code",
   "execution_count": 19,
   "id": "40eabbfa-c43d-4761-a407-3d1fedb8c6d0",
   "metadata": {},
   "outputs": [],
   "source": [
    "word_cleaned = []"
   ]
  },
  {
   "cell_type": "code",
   "execution_count": 20,
   "id": "bb75a242-b142-4a56-a5cb-0fcbf704a34e",
   "metadata": {},
   "outputs": [
    {
     "name": "stdout",
     "output_type": "stream",
     "text": [
      "['This', 'forest', 'is', 'taking', 'our', 'friends', 'away', ',', 'and', 'this', 'is', 'the', 'worst', ',', 'he', 'said', '.']\n",
      "['``', 'And', 'when', 'I', 'think', 'about', 'how', 'far', 'we', 'still', 'need', 'to', 'move', 'forward', ';', 'most', 'likely', 'someday', 'I', 'will', 'be', 'the', 'one', 'to', 'remain', 'lying', 'in', 'the', 'forest', ',', 'and', 'my', 'friends', 'will', 'just', 'go', 'forward', '.']\n",
      "['``', 'This', 'stretch', 'of', 'dead', 'forest', 'leading', 'toward', 'the', 'village', 'of', 'Andriivka', 'is', 'one', 'of', 'countless', 'like', 'it', 'on', 'the', 'road', 'to', 'Russian-controlled', 'Bakhmut', ',', 'which', 'has', 'huge', 'symbolic', 'significance', 'in', 'the', 'Ukrainian', 'counteroffensive', '.']\n",
      "['The', 'Associated', 'Press', 'spent', 'two', 'weeks', 'with', 'the', 'brigade', 'for', 'an', 'intimate', 'glimpse', 'into', 'the', 'speed', ',', 'direction', 'and', 'cost', 'of', 'the', 'counteroffensive', '.']\n"
     ]
    }
   ],
   "source": [
    "for sentence in word_tokens:\n",
    "    print(sentence)\n",
    "    for token_word in sentence:\n",
    "        # print(token_word)\n",
    "        pass"
   ]
  },
  {
   "cell_type": "code",
   "execution_count": 21,
   "id": "4c9af600-57dd-40dd-bd70-09511fa5f237",
   "metadata": {},
   "outputs": [],
   "source": [
    "for sentence in word_tokens:\n",
    "    for token_word in sentence:\n",
    "        token_word = token_word.lower()\n",
    "        if (token_word not in stop_words) and (token_word not in common_punctuatuon):\n",
    "            word_cleaned.append(token_word)\n",
    "            "
   ]
  },
  {
   "cell_type": "code",
   "execution_count": 22,
   "id": "e5134a85-78b2-459f-8cd6-b98233b12727",
   "metadata": {},
   "outputs": [
    {
     "data": {
      "text/plain": [
       "['forest',\n",
       " 'taking',\n",
       " 'friends',\n",
       " 'away',\n",
       " 'worst',\n",
       " 'said',\n",
       " 'think',\n",
       " 'far',\n",
       " 'still',\n",
       " 'need',\n",
       " 'move',\n",
       " 'forward',\n",
       " 'likely',\n",
       " 'someday',\n",
       " 'one',\n",
       " 'remain',\n",
       " 'lying',\n",
       " 'forest',\n",
       " 'friends',\n",
       " 'go',\n",
       " 'forward',\n",
       " 'stretch',\n",
       " 'dead',\n",
       " 'forest',\n",
       " 'leading',\n",
       " 'toward',\n",
       " 'village',\n",
       " 'andriivka',\n",
       " 'one',\n",
       " 'countless',\n",
       " 'like',\n",
       " 'road',\n",
       " 'russian-controlled',\n",
       " 'bakhmut',\n",
       " 'huge',\n",
       " 'symbolic',\n",
       " 'significance',\n",
       " 'ukrainian',\n",
       " 'counteroffensive',\n",
       " 'associated',\n",
       " 'press',\n",
       " 'spent',\n",
       " 'two',\n",
       " 'weeks',\n",
       " 'brigade',\n",
       " 'intimate',\n",
       " 'glimpse',\n",
       " 'speed',\n",
       " 'direction',\n",
       " 'cost',\n",
       " 'counteroffensive']"
      ]
     },
     "execution_count": 22,
     "metadata": {},
     "output_type": "execute_result"
    }
   ],
   "source": [
    "word_cleaned"
   ]
  },
  {
   "cell_type": "code",
   "execution_count": 23,
   "id": "02c3fe42-b99d-4336-9aaa-15a3d98dff73",
   "metadata": {},
   "outputs": [],
   "source": [
    "word_cleaned = list(set(word_cleaned))"
   ]
  },
  {
   "cell_type": "code",
   "execution_count": 24,
   "id": "52cb2bb1-a5cf-448a-9e0b-fa228f96008b",
   "metadata": {},
   "outputs": [
    {
     "data": {
      "text/plain": [
       "['like',\n",
       " 'need',\n",
       " 'countless',\n",
       " 'stretch',\n",
       " 'spent',\n",
       " 'worst',\n",
       " 'glimpse',\n",
       " 'remain',\n",
       " 'road',\n",
       " 'taking',\n",
       " 'toward',\n",
       " 'still',\n",
       " 'move',\n",
       " 'village',\n",
       " 'friends',\n",
       " 'said',\n",
       " 'dead',\n",
       " 'speed',\n",
       " 'counteroffensive',\n",
       " 'weeks',\n",
       " 'andriivka',\n",
       " 'go',\n",
       " 'far',\n",
       " 'huge',\n",
       " 'two',\n",
       " 'leading',\n",
       " 'think',\n",
       " 'direction',\n",
       " 'likely',\n",
       " 'ukrainian',\n",
       " 'associated',\n",
       " 'intimate',\n",
       " 'lying',\n",
       " 'one',\n",
       " 'russian-controlled',\n",
       " 'brigade',\n",
       " 'away',\n",
       " 'someday',\n",
       " 'cost',\n",
       " 'forward',\n",
       " 'significance',\n",
       " 'bakhmut',\n",
       " 'symbolic',\n",
       " 'forest',\n",
       " 'press']"
      ]
     },
     "execution_count": 24,
     "metadata": {},
     "output_type": "execute_result"
    }
   ],
   "source": [
    "word_cleaned"
   ]
  },
  {
   "cell_type": "code",
   "execution_count": 27,
   "id": "5e2092c6-3fc8-4807-aa5b-60e2f6e461fb",
   "metadata": {},
   "outputs": [],
   "source": [
    "porter_stemmer = PorterStemmer()\n",
    "lancaster_stemmer = LancasterStemmer()\n",
    "snowball_stemmer = SnowballStemmer(language='english')"
   ]
  },
  {
   "cell_type": "code",
   "execution_count": 30,
   "id": "e0d29b14-e2af-4162-9f38-296e381adcf9",
   "metadata": {},
   "outputs": [
    {
     "data": {
      "text/plain": [
       "['like',\n",
       " 'need',\n",
       " 'countless',\n",
       " 'stretch',\n",
       " 'spent',\n",
       " 'worst',\n",
       " 'glimps',\n",
       " 'remain',\n",
       " 'road',\n",
       " 'take',\n",
       " 'toward',\n",
       " 'still',\n",
       " 'move',\n",
       " 'villag',\n",
       " 'friend',\n",
       " 'said',\n",
       " 'dead',\n",
       " 'speed',\n",
       " 'counteroffens',\n",
       " 'week',\n",
       " 'andriivka',\n",
       " 'go',\n",
       " 'far',\n",
       " 'huge',\n",
       " 'two',\n",
       " 'lead',\n",
       " 'think',\n",
       " 'direct',\n",
       " 'like',\n",
       " 'ukrainian',\n",
       " 'associ',\n",
       " 'intim',\n",
       " 'lie',\n",
       " 'one',\n",
       " 'russian-control',\n",
       " 'brigad',\n",
       " 'away',\n",
       " 'someday',\n",
       " 'cost',\n",
       " 'forward',\n",
       " 'signific',\n",
       " 'bakhmut',\n",
       " 'symbol',\n",
       " 'forest',\n",
       " 'press']"
      ]
     },
     "execution_count": 30,
     "metadata": {},
     "output_type": "execute_result"
    }
   ],
   "source": [
    "stemmed_tokens = []\n",
    "\n",
    "for each_word in word_cleaned:\n",
    "    stemmed_tokens.append(snowball_stemmer.stem(each_word))\n",
    "\n",
    "stemmed_tokens"
   ]
  },
  {
   "cell_type": "code",
   "execution_count": 31,
   "id": "170e1cbf-77d2-42f4-aeb1-069e16c792ec",
   "metadata": {},
   "outputs": [],
   "source": [
    "from nltk.tag import pos_tag"
   ]
  },
  {
   "cell_type": "code",
   "execution_count": 33,
   "id": "6d269e8c-05da-476e-a79a-f053b45b07fc",
   "metadata": {},
   "outputs": [
    {
     "name": "stderr",
     "output_type": "stream",
     "text": [
      "[nltk_data] Downloading package averaged_perceptron_tagger to\n",
      "[nltk_data]     C:\\Users\\prabe\\AppData\\Roaming\\nltk_data...\n",
      "[nltk_data]   Unzipping taggers\\averaged_perceptron_tagger.zip.\n"
     ]
    },
    {
     "data": {
      "text/plain": [
       "True"
      ]
     },
     "execution_count": 33,
     "metadata": {},
     "output_type": "execute_result"
    }
   ],
   "source": [
    "# nltk.download('averaged_perceptron_tagger')"
   ]
  },
  {
   "cell_type": "code",
   "execution_count": 34,
   "id": "c82f79dd-f677-49c0-80aa-6572f1cce1ef",
   "metadata": {},
   "outputs": [],
   "source": [
    "taged_tokens = pos_tag(word_cleaned)"
   ]
  },
  {
   "cell_type": "code",
   "execution_count": 35,
   "id": "5fef38ad-b1be-4d3d-8ee3-69071b655db2",
   "metadata": {},
   "outputs": [
    {
     "data": {
      "text/plain": [
       "[('like', 'IN'),\n",
       " ('need', 'MD'),\n",
       " ('countless', 'VB'),\n",
       " ('stretch', 'VB'),\n",
       " ('spent', 'NN'),\n",
       " ('worst', 'JJS'),\n",
       " ('glimpse', 'NN'),\n",
       " ('remain', 'VBP'),\n",
       " ('road', 'NN'),\n",
       " ('taking', 'VBG'),\n",
       " ('toward', 'IN'),\n",
       " ('still', 'RB'),\n",
       " ('move', 'VB'),\n",
       " ('village', 'NN'),\n",
       " ('friends', 'NNS'),\n",
       " ('said', 'VBD'),\n",
       " ('dead', 'JJ'),\n",
       " ('speed', 'NN'),\n",
       " ('counteroffensive', 'JJ'),\n",
       " ('weeks', 'NNS'),\n",
       " ('andriivka', 'RB'),\n",
       " ('go', 'VBP'),\n",
       " ('far', 'RB'),\n",
       " ('huge', 'JJ'),\n",
       " ('two', 'CD'),\n",
       " ('leading', 'VBG'),\n",
       " ('think', 'VBP'),\n",
       " ('direction', 'NN'),\n",
       " ('likely', 'RB'),\n",
       " ('ukrainian', 'JJ'),\n",
       " ('associated', 'VBN'),\n",
       " ('intimate', 'NN'),\n",
       " ('lying', 'VBG'),\n",
       " ('one', 'CD'),\n",
       " ('russian-controlled', 'JJ'),\n",
       " ('brigade', 'NN'),\n",
       " ('away', 'RB'),\n",
       " ('someday', 'JJ'),\n",
       " ('cost', 'NN'),\n",
       " ('forward', 'RB'),\n",
       " ('significance', 'NN'),\n",
       " ('bakhmut', 'NN'),\n",
       " ('symbolic', 'JJ'),\n",
       " ('forest', 'JJS'),\n",
       " ('press', 'NN')]"
      ]
     },
     "execution_count": 35,
     "metadata": {},
     "output_type": "execute_result"
    }
   ],
   "source": [
    "taged_tokens"
   ]
  },
  {
   "cell_type": "code",
   "execution_count": null,
   "id": "9f11cc63-144c-4bfc-b146-d0075b5695dd",
   "metadata": {},
   "outputs": [],
   "source": []
  }
 ],
 "metadata": {
  "kernelspec": {
   "display_name": "Python 3 (ipykernel)",
   "language": "python",
   "name": "python3"
  },
  "language_info": {
   "codemirror_mode": {
    "name": "ipython",
    "version": 3
   },
   "file_extension": ".py",
   "mimetype": "text/x-python",
   "name": "python",
   "nbconvert_exporter": "python",
   "pygments_lexer": "ipython3",
   "version": "3.10.11"
  }
 },
 "nbformat": 4,
 "nbformat_minor": 5
}
