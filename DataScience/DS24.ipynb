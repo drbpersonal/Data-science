{
 "cells": [
  {
   "cell_type": "code",
   "execution_count": 3,
   "id": "88fa8138",
   "metadata": {},
   "outputs": [],
   "source": [
    "import numpy as np\n",
    "import matplotlib.pyplot as plt\n",
    "import seaborn as sns"
   ]
  },
  {
   "cell_type": "code",
   "execution_count": 4,
   "id": "12c3cf25",
   "metadata": {},
   "outputs": [],
   "source": [
    "import tensorflow as tf"
   ]
  },
  {
   "cell_type": "code",
   "execution_count": 5,
   "id": "77c86f0e",
   "metadata": {},
   "outputs": [
    {
     "data": {
      "text/plain": [
       "'2.13.0'"
      ]
     },
     "execution_count": 5,
     "metadata": {},
     "output_type": "execute_result"
    }
   ],
   "source": [
    "tf.__version__\n"
   ]
  },
  {
   "cell_type": "code",
   "execution_count": 6,
   "id": "55de2861",
   "metadata": {},
   "outputs": [],
   "source": [
    "data_gen = tf.keras.preprocessing.image.ImageDataGenerator(rescale=1.0/225)"
   ]
  },
  {
   "cell_type": "code",
   "execution_count": 7,
   "id": "4eba2b95",
   "metadata": {},
   "outputs": [
    {
     "name": "stdout",
     "output_type": "stream",
     "text": [
      "Found 4317 images belonging to 5 classes.\n"
     ]
    }
   ],
   "source": [
    "training_data = data_gen.flow_from_directory(directory='../dataset/flowers/',\n",
    "                                            target_size=(224,224),\n",
    "                                            batch_size=256,\n",
    "                                            seed=666\n",
    "                                            )"
   ]
  },
  {
   "cell_type": "code",
   "execution_count": 8,
   "id": "e2bda7a8",
   "metadata": {},
   "outputs": [
    {
     "data": {
      "text/plain": [
       "16.86328125"
      ]
     },
     "execution_count": 8,
     "metadata": {},
     "output_type": "execute_result"
    }
   ],
   "source": [
    "4317/256"
   ]
  },
  {
   "cell_type": "code",
   "execution_count": 9,
   "id": "b8c60c07",
   "metadata": {},
   "outputs": [
    {
     "name": "stdout",
     "output_type": "stream",
     "text": [
      "Downloading data from https://storage.googleapis.com/tensorflow/keras-applications/mobilenet_v3/weights_mobilenet_v3_small_224_1.0_float_no_top_v2.h5\n",
      "4334752/4334752 [==============================] - 1s 0us/step\n"
     ]
    }
   ],
   "source": [
    "model = tf.keras.applications.MobileNetV3Small(input_shape=(224,224,3),\n",
    "                                              weights ='imagenet',\n",
    "                                              dropout_rate=0.2,\n",
    "                                              include_top=False\n",
    "                                              )"
   ]
  },
  {
   "cell_type": "code",
   "execution_count": 11,
   "id": "674ebda8",
   "metadata": {},
   "outputs": [],
   "source": [
    "model.trainable= False"
   ]
  },
  {
   "cell_type": "code",
   "execution_count": 15,
   "id": "fe1f107f",
   "metadata": {},
   "outputs": [],
   "source": [
    "x =model.layers[-1].output\n",
    "x =tf.keras.layers.Flatten()(x)\n",
    "x = tf.keras.layers.Dense(units=25,activation='relu')(x)\n",
    "outputs=tf.keras.layers.Dense(units=5,activation='softmax')(x)\n",
    "new_model =tf.keras.Model(model.input,outputs)\n"
   ]
  },
  {
   "cell_type": "code",
   "execution_count": 18,
   "id": "7dd63569",
   "metadata": {},
   "outputs": [],
   "source": [
    "new_model.compile(optimizer=tf.keras.optimizers.RMSprop(learning_rate=1e-5),\n",
    "                 loss='categorical_crossentropy',\n",
    "                 metrics=['acc']\n",
    "                 )"
   ]
  },
  {
   "cell_type": "code",
   "execution_count": 19,
   "id": "aef9c02e",
   "metadata": {},
   "outputs": [],
   "source": [
    "#checkpoint = tf.keras.callbacks,ModelCheckpoint(filepath='flower.hdfs',save_best_only=True)\n",
    "#es=tf.keras.callbacks.EarlyStopping()"
   ]
  },
  {
   "cell_type": "code",
   "execution_count": null,
   "id": "f7aaff03",
   "metadata": {},
   "outputs": [
    {
     "name": "stdout",
     "output_type": "stream",
     "text": [
      "Epoch 1/20\n",
      "17/17 [==============================] - 132s 7s/step - loss: 1.6643 - acc: 0.2120\n",
      "Epoch 2/20\n",
      "17/17 [==============================] - 83s 5s/step - loss: 1.6055 - acc: 0.2631\n",
      "Epoch 3/20\n",
      "17/17 [==============================] - 94s 5s/step - loss: 1.5923 - acc: 0.2645\n",
      "Epoch 4/20\n",
      "17/17 [==============================] - 91s 5s/step - loss: 1.5868 - acc: 0.2872\n",
      "Epoch 5/20\n",
      "17/17 [==============================] - 93s 5s/step - loss: 1.5826 - acc: 0.2974\n",
      "Epoch 6/20\n",
      "17/17 [==============================] - 90s 5s/step - loss: 1.5794 - acc: 0.2946\n",
      "Epoch 7/20\n",
      "17/17 [==============================] - 90s 5s/step - loss: 1.5771 - acc: 0.3092\n",
      "Epoch 8/20\n",
      "17/17 [==============================] - 90s 5s/step - loss: 1.5744 - acc: 0.3111\n",
      "Epoch 9/20\n",
      "17/17 [==============================] - 90s 5s/step - loss: 1.5712 - acc: 0.3106\n",
      "Epoch 10/20\n",
      "17/17 [==============================] - 90s 5s/step - loss: 1.5685 - acc: 0.3160\n",
      "Epoch 11/20\n",
      "17/17 [==============================] - 93s 5s/step - loss: 1.5655 - acc: 0.3213\n",
      "Epoch 12/20\n",
      "17/17 [==============================] - 95s 6s/step - loss: 1.5637 - acc: 0.3292\n",
      "Epoch 13/20\n",
      " 9/17 [==============>...............] - ETA: 43s - loss: 1.5543 - acc: 0.3255"
     ]
    }
   ],
   "source": [
    "history = new_model.fit(training_data,epochs=20,)"
   ]
  },
  {
   "cell_type": "code",
   "execution_count": null,
   "id": "e901f815",
   "metadata": {},
   "outputs": [],
   "source": [
    "new_model.save('flower_classfication_mobilenet_v3.keras',save_format='keras')"
   ]
  },
  {
   "cell_type": "code",
   "execution_count": null,
   "id": "a3f6d49d",
   "metadata": {},
   "outputs": [],
   "source": [
    "new_model.summary()"
   ]
  },
  {
   "cell_type": "code",
   "execution_count": null,
   "id": "210799e8",
   "metadata": {},
   "outputs": [],
   "source": []
  }
 ],
 "metadata": {
  "kernelspec": {
   "display_name": "Python 3 (ipykernel)",
   "language": "python",
   "name": "python3"
  },
  "language_info": {
   "codemirror_mode": {
    "name": "ipython",
    "version": 3
   },
   "file_extension": ".py",
   "mimetype": "text/x-python",
   "name": "python",
   "nbconvert_exporter": "python",
   "pygments_lexer": "ipython3",
   "version": "3.10.9"
  }
 },
 "nbformat": 4,
 "nbformat_minor": 5
}
