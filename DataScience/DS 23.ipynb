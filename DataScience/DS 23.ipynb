{
 "cells": [
  {
   "cell_type": "code",
   "execution_count": 1,
   "id": "b5c9a191-0138-4fdc-b9d0-c260983a17c2",
   "metadata": {},
   "outputs": [],
   "source": [
    "import numpy as np\n",
    "import matplotlib.pyplot as plt"
   ]
  },
  {
   "cell_type": "code",
   "execution_count": 2,
   "id": "1722ca3b-f9f1-4735-b7f2-6151a48f745b",
   "metadata": {},
   "outputs": [],
   "source": [
    "from sklearn.metrics import accuracy_score, classification_report"
   ]
  },
  {
   "cell_type": "code",
   "execution_count": 3,
   "id": "f069e4fd-8e14-4df7-9221-35e510287ec0",
   "metadata": {},
   "outputs": [],
   "source": [
    "from keras.models import Sequential\n",
    "from keras.layers import Dense, Flatten, Conv2D, MaxPooling2D, Dropout"
   ]
  },
  {
   "cell_type": "code",
   "execution_count": 4,
   "id": "30fbdd25-a6ea-45b1-92c8-daf7dd7413b8",
   "metadata": {},
   "outputs": [],
   "source": [
    "from keras.utils import to_categorical"
   ]
  },
  {
   "cell_type": "code",
   "execution_count": 5,
   "id": "8d9794bd-6c30-43f9-9839-1ec0e2269803",
   "metadata": {},
   "outputs": [],
   "source": [
    "from keras.datasets import cifar10"
   ]
  },
  {
   "cell_type": "code",
   "execution_count": 6,
   "id": "4c248727-0ad6-4e58-a652-814f8cb9f34e",
   "metadata": {},
   "outputs": [],
   "source": [
    "from keras.callbacks import EarlyStopping"
   ]
  },
  {
   "cell_type": "code",
   "execution_count": 7,
   "id": "ec0225af-04a3-49c6-a7a3-8693218fb792",
   "metadata": {},
   "outputs": [
    {
     "name": "stdout",
     "output_type": "stream",
     "text": [
      "Downloading data from https://www.cs.toronto.edu/~kriz/cifar-10-python.tar.gz\n",
      "170498071/170498071 [==============================] - 161s 1us/step\n"
     ]
    }
   ],
   "source": [
    "(X_train, y_train), (X_test, y_test) = cifar10.load_data()"
   ]
  },
  {
   "cell_type": "code",
   "execution_count": 8,
   "id": "5960618b-ea69-435d-b71a-fd0516b5cd4d",
   "metadata": {},
   "outputs": [
    {
     "data": {
      "text/plain": [
       "(50000, 32, 32, 3)"
      ]
     },
     "execution_count": 8,
     "metadata": {},
     "output_type": "execute_result"
    }
   ],
   "source": [
    "X_train.shape"
   ]
  },
  {
   "cell_type": "code",
   "execution_count": 9,
   "id": "a8897af0-61dc-4017-ba39-f47da062a1be",
   "metadata": {},
   "outputs": [
    {
     "data": {
      "text/plain": [
       "3072"
      ]
     },
     "execution_count": 9,
     "metadata": {},
     "output_type": "execute_result"
    }
   ],
   "source": [
    "32 * 32 * 3"
   ]
  },
  {
   "cell_type": "code",
   "execution_count": 11,
   "id": "02225e16-5d39-4c7f-9ba4-3f8b21ea75b0",
   "metadata": {},
   "outputs": [],
   "source": [
    "objects = ['airplane', 'automobile', 'bird', 'cat', 'deer',\n",
    "           'dog', 'frog', 'horse', 'ship', 'truck']"
   ]
  },
  {
   "cell_type": "code",
   "execution_count": 31,
   "id": "58466934-4ee8-46c9-b398-f1b6a72cf9d9",
   "metadata": {},
   "outputs": [
    {
     "data": {
      "image/png": "[encoded data removed]",
      "text/plain": [
       "<Figure size 640x480 with 1 Axes>"
      ]
     },
     "metadata": {},
     "output_type": "display_data"
    }
   ],
   "source": [
    "img_index = 54\n",
    "obj = objects[y_train[img_index][0]]\n",
    "plt.title(obj)\n",
    "plt.imshow(X_train[img_index])\n",
    "plt.show()"
   ]
  },
  {
   "cell_type": "code",
   "execution_count": 33,
   "id": "feab7dd6-c347-4dcb-a420-e60c64b0a72c",
   "metadata": {},
   "outputs": [
    {
     "name": "stdout",
     "output_type": "stream",
     "text": [
      "Model: \"sequential_1\"\n",
      "_________________________________________________________________\n",
      " Layer (type)                Output Shape              Param #   \n",
      "=================================================================\n",
      " conv2d_4 (Conv2D)           (None, 30, 30, 5)         140       \n",
      "                                                                 \n",
      " dropout_5 (Dropout)         (None, 30, 30, 5)         0         \n",
      "                                                                 \n",
      " max_pooling2d_2 (MaxPoolin  (None, 15, 15, 5)         0         \n",
      " g2D)                                                            \n",
      "                                                                 \n",
      " conv2d_5 (Conv2D)           (None, 13, 13, 10)        460       \n",
      "                                                                 \n",
      " dropout_6 (Dropout)         (None, 13, 13, 10)        0         \n",
      "                                                                 \n",
      " max_pooling2d_3 (MaxPoolin  (None, 6, 6, 10)          0         \n",
      " g2D)                                                            \n",
      "                                                                 \n",
      " conv2d_6 (Conv2D)           (None, 4, 4, 20)          1820      \n",
      "                                                                 \n",
      " dropout_7 (Dropout)         (None, 4, 4, 20)          0         \n",
      "                                                                 \n",
      " conv2d_7 (Conv2D)           (None, 2, 2, 40)          7240      \n",
      "                                                                 \n",
      " dropout_8 (Dropout)         (None, 2, 2, 40)          0         \n",
      "                                                                 \n",
      " max_pooling2d_4 (MaxPoolin  (None, 1, 1, 40)          0         \n",
      " g2D)                                                            \n",
      "                                                                 \n",
      " flatten_1 (Flatten)         (None, 40)                0         \n",
      "                                                                 \n",
      " dense_2 (Dense)             (None, 128)               5248      \n",
      "                                                                 \n",
      " dropout_9 (Dropout)         (None, 128)               0         \n",
      "                                                                 \n",
      " dense_3 (Dense)             (None, 10)                1290      \n",
      "                                                                 \n",
      "=================================================================\n",
      "Total params: 16198 (63.27 KB)\n",
      "Trainable params: 16198 (63.27 KB)\n",
      "Non-trainable params: 0 (0.00 Byte)\n",
      "_________________________________________________________________\n"
     ]
    }
   ],
   "source": [
    "cnn = Sequential()\n",
    "\n",
    "cnn.add(Conv2D(input_shape=(32, 32, 3), filters=5, kernel_size=(3, 3), activation='relu'))\n",
    "cnn.add(Dropout(0.2))\n",
    "cnn.add(MaxPooling2D())\n",
    "\n",
    "cnn.add(Conv2D(filters=10, kernel_size=(3, 3), activation='relu'))\n",
    "cnn.add(Dropout(0.2))\n",
    "cnn.add(MaxPooling2D())\n",
    "\n",
    "cnn.add(Conv2D(filters=20, kernel_size=(3, 3), activation='relu'))\n",
    "cnn.add(Dropout(0.2))\n",
    "# cnn.add(MaxPooling2D())\n",
    "\n",
    "cnn.add(Conv2D(filters=40, kernel_size=(3, 3), activation='relu'))\n",
    "cnn.add(Dropout(0.2))\n",
    "cnn.add(MaxPooling2D())\n",
    "\n",
    "cnn.add(Flatten())\n",
    "\n",
    "cnn.add(Dense(units=128, activation='relu'))\n",
    "cnn.add(Dropout(0.2))\n",
    "cnn.add(Dense(units=10, activation='softmax'))\n",
    "\n",
    "cnn.compile(loss='categorical_crossentropy', metrics=['acc'], optimizer='adam')\n",
    "\n",
    "cnn.summary()"
   ]
  },
  {
   "cell_type": "code",
   "execution_count": 34,
   "id": "f7bcc5cd-d970-4ada-a4cb-c70f61988ce3",
   "metadata": {},
   "outputs": [],
   "source": [
    "X_train = X_train / 255\n",
    "X_test = X_test / 255"
   ]
  },
  {
   "cell_type": "code",
   "execution_count": 35,
   "id": "ccb60000-038a-4dcf-89f9-49a29d84ad9e",
   "metadata": {},
   "outputs": [],
   "source": [
    "y_train = to_categorical(y_train)"
   ]
  },
  {
   "cell_type": "code",
   "execution_count": 36,
   "id": "463d5dbe-5c98-4ad3-b3d2-221e92b5d2c1",
   "metadata": {},
   "outputs": [
    {
     "name": "stdout",
     "output_type": "stream",
     "text": [
      "Epoch 1/20\n",
      "1329/1329 [==============================] - 22s 15ms/step - loss: 1.8406 - acc: 0.3053 - val_loss: 1.7576 - val_acc: 0.3592\n",
      "Epoch 2/20\n",
      "1329/1329 [==============================] - 22s 16ms/step - loss: 1.5945 - acc: 0.4122 - val_loss: 1.6125 - val_acc: 0.4528\n",
      "Epoch 3/20\n",
      "1329/1329 [==============================] - 18s 13ms/step - loss: 1.5056 - acc: 0.4508 - val_loss: 1.5630 - val_acc: 0.4344\n",
      "Epoch 4/20\n",
      "1329/1329 [==============================] - 19s 14ms/step - loss: 1.4549 - acc: 0.4720 - val_loss: 1.5675 - val_acc: 0.4435\n",
      "Epoch 5/20\n",
      "1329/1329 [==============================] - 18s 14ms/step - loss: 1.4190 - acc: 0.4853 - val_loss: 1.4685 - val_acc: 0.4868\n",
      "Epoch 6/20\n",
      "1329/1329 [==============================] - 21s 16ms/step - loss: 1.3925 - acc: 0.4981 - val_loss: 1.4984 - val_acc: 0.4729\n",
      "Epoch 7/20\n",
      "1329/1329 [==============================] - 20s 15ms/step - loss: 1.3622 - acc: 0.5100 - val_loss: 1.3950 - val_acc: 0.5167\n",
      "Epoch 8/20\n",
      "1329/1329 [==============================] - 20s 15ms/step - loss: 1.3426 - acc: 0.5200 - val_loss: 1.4459 - val_acc: 0.4991\n",
      "Epoch 9/20\n",
      "1329/1329 [==============================] - 20s 15ms/step - loss: 1.3270 - acc: 0.5230 - val_loss: 1.4093 - val_acc: 0.4993\n",
      "Epoch 10/20\n",
      "1329/1329 [==============================] - 18s 14ms/step - loss: 1.3197 - acc: 0.5273 - val_loss: 1.3885 - val_acc: 0.5117\n",
      "Epoch 11/20\n",
      "1329/1329 [==============================] - 19s 14ms/step - loss: 1.3006 - acc: 0.5340 - val_loss: 1.4954 - val_acc: 0.4888\n",
      "Epoch 12/20\n",
      "1329/1329 [==============================] - 18s 14ms/step - loss: 1.3009 - acc: 0.5327 - val_loss: 1.3309 - val_acc: 0.5456\n",
      "Epoch 13/20\n",
      "1329/1329 [==============================] - 18s 13ms/step - loss: 1.2894 - acc: 0.5411 - val_loss: 1.5848 - val_acc: 0.4571\n",
      "Epoch 14/20\n",
      "1329/1329 [==============================] - 21s 16ms/step - loss: 1.2786 - acc: 0.5446 - val_loss: 1.4166 - val_acc: 0.4880\n",
      "Epoch 15/20\n",
      "1329/1329 [==============================] - 20s 15ms/step - loss: 1.2683 - acc: 0.5482 - val_loss: 1.3418 - val_acc: 0.5195\n",
      "Epoch 16/20\n",
      "1329/1329 [==============================] - 20s 15ms/step - loss: 1.2616 - acc: 0.5496 - val_loss: 1.3857 - val_acc: 0.5119\n",
      "Epoch 17/20\n",
      "1329/1329 [==============================] - 17s 13ms/step - loss: 1.2626 - acc: 0.5500 - val_loss: 1.3729 - val_acc: 0.5256\n",
      "Epoch 18/20\n",
      "1329/1329 [==============================] - 21s 16ms/step - loss: 1.2562 - acc: 0.5516 - val_loss: 1.3196 - val_acc: 0.5428\n",
      "Epoch 19/20\n",
      "1329/1329 [==============================] - 18s 14ms/step - loss: 1.2521 - acc: 0.5530 - val_loss: 1.3847 - val_acc: 0.5156\n",
      "Epoch 20/20\n",
      "1329/1329 [==============================] - 19s 14ms/step - loss: 1.2450 - acc: 0.5572 - val_loss: 1.3809 - val_acc: 0.5181\n"
     ]
    },
    {
     "data": {
      "text/plain": [
       "<keras.src.callbacks.History at 0x13427798c70>"
      ]
     },
     "execution_count": 36,
     "metadata": {},
     "output_type": "execute_result"
    }
   ],
   "source": [
    "cnn.fit(X_train, y_train, epochs=20, validation_split=0.15)"
   ]
  },
  {
   "cell_type": "code",
   "execution_count": 37,
   "id": "7c61062e-15bd-44f3-ae22-904d30e7c80b",
   "metadata": {},
   "outputs": [
    {
     "name": "stdout",
     "output_type": "stream",
     "text": [
      "313/313 [==============================] - 1s 4ms/step\n"
     ]
    }
   ],
   "source": [
    "y_pred = cnn.predict(X_test)"
   ]
  },
  {
   "cell_type": "code",
   "execution_count": 39,
   "id": "cc7a6656-cbda-4dfa-95f6-091674bc6abe",
   "metadata": {},
   "outputs": [
    {
     "data": {
      "text/plain": [
       "array([1.0846980e+01, 3.5905571e+01, 1.0929476e-01, 8.0737643e-02,\n",
       "       1.3328128e-01, 1.2427596e-02, 7.9108141e-02, 1.9031320e-02,\n",
       "       4.8213615e+01, 4.5999479e+00], dtype=float32)"
      ]
     },
     "execution_count": 39,
     "metadata": {},
     "output_type": "execute_result"
    }
   ],
   "source": [
    "y_pred[1] * 100"
   ]
  },
  {
   "cell_type": "code",
   "execution_count": 40,
   "id": "210e3249-1a21-4f86-8a83-d24f612e9a23",
   "metadata": {},
   "outputs": [
    {
     "data": {
      "text/plain": [
       "0.48213616"
      ]
     },
     "execution_count": 40,
     "metadata": {},
     "output_type": "execute_result"
    }
   ],
   "source": [
    "np.max(y_pred[1])"
   ]
  },
  {
   "cell_type": "code",
   "execution_count": 41,
   "id": "73870093-7a34-451c-a16a-aea5e435cccc",
   "metadata": {},
   "outputs": [
    {
     "data": {
      "text/plain": [
       "8"
      ]
     },
     "execution_count": 41,
     "metadata": {},
     "output_type": "execute_result"
    }
   ],
   "source": [
    "np.argmax(y_pred[1])"
   ]
  },
  {
   "cell_type": "code",
   "execution_count": 46,
   "id": "9a21838c-0620-4e82-9aed-259168efab6f",
   "metadata": {},
   "outputs": [],
   "source": [
    "y_pred_class = np.argmax(y_pred, axis=1)"
   ]
  },
  {
   "cell_type": "code",
   "execution_count": 49,
   "id": "2162f096-2e9b-4699-b313-95054f7104b9",
   "metadata": {},
   "outputs": [],
   "source": [
    "y_pred_proba = np.max(y_pred, axis=1)"
   ]
  },
  {
   "cell_type": "code",
   "execution_count": 47,
   "id": "944b5d1c-0772-4bbe-88cc-fcca9a16535e",
   "metadata": {},
   "outputs": [
    {
     "data": {
      "text/plain": [
       "array([3, 8, 8, ..., 5, 7, 7], dtype=int64)"
      ]
     },
     "execution_count": 47,
     "metadata": {},
     "output_type": "execute_result"
    }
   ],
   "source": [
    "y_pred_class"
   ]
  },
  {
   "cell_type": "code",
   "execution_count": 48,
   "id": "9c9323cc-7273-4c25-a177-85ec00e6f02d",
   "metadata": {},
   "outputs": [
    {
     "name": "stdout",
     "output_type": "stream",
     "text": [
      "              precision    recall  f1-score   support\n",
      "\n",
      "           0       0.81      0.39      0.53      1000\n",
      "           1       0.83      0.46      0.59      1000\n",
      "           2       0.53      0.36      0.43      1000\n",
      "           3       0.28      0.66      0.40      1000\n",
      "           4       0.37      0.72      0.49      1000\n",
      "           5       0.62      0.27      0.37      1000\n",
      "           6       0.65      0.65      0.65      1000\n",
      "           7       0.74      0.44      0.55      1000\n",
      "           8       0.61      0.73      0.66      1000\n",
      "           9       0.66      0.52      0.58      1000\n",
      "\n",
      "    accuracy                           0.52     10000\n",
      "   macro avg       0.61      0.52      0.52     10000\n",
      "weighted avg       0.61      0.52      0.52     10000\n",
      "\n"
     ]
    }
   ],
   "source": [
    "print(classification_report(y_test, y_pred_class))"
   ]
  },
  {
   "cell_type": "code",
   "execution_count": 57,
   "id": "e258b58d-04e0-4fc6-bab2-fb779a30fb1b",
   "metadata": {},
   "outputs": [
    {
     "data": {
      "text/plain": [
       "['airplane',\n",
       " 'automobile',\n",
       " 'bird',\n",
       " 'cat',\n",
       " 'deer',\n",
       " 'dog',\n",
       " 'frog',\n",
       " 'horse',\n",
       " 'ship',\n",
       " 'truck']"
      ]
     },
     "execution_count": 57,
     "metadata": {},
     "output_type": "execute_result"
    }
   ],
   "source": [
    "objects"
   ]
  },
  {
   "cell_type": "code",
   "execution_count": 58,
   "id": "15a3cb6c-8ffe-4382-9b92-e435b9705a4e",
   "metadata": {},
   "outputs": [
    {
     "data": {
      "image/png": "[encoded data removed]",
      "text/plain": [
       "<Figure size 640x480 with 1 Axes>"
      ]
     },
     "metadata": {},
     "output_type": "display_data"
    }
   ],
   "source": [
    "img_index = 5445\n",
    "obj = objects[y_test[img_index][0]]\n",
    "pred_obj = y_pred_class[img_index]\n",
    "pred_obj = objects[pred_obj]\n",
    "proba = round(y_pred_proba[img_index], 2) * 100\n",
    "message = f'Real: {obj}, Pred: {pred_obj}({int(proba)}%)'\n",
    "plt.title(message)\n",
    "plt.imshow(X_test[img_index])\n",
    "plt.show()"
   ]
  },
  {
   "cell_type": "code",
   "execution_count": null,
   "id": "81fbe411-50a0-45e0-a791-bbfb4773305b",
   "metadata": {},
   "outputs": [],
   "source": []
  }
 ],
 "metadata": {
  "kernelspec": {
   "display_name": "Python 3 (ipykernel)",
   "language": "python",
   "name": "python3"
  },
  "language_info": {
   "codemirror_mode": {
    "name": "ipython",
    "version": 3
   },
   "file_extension": ".py",
   "mimetype": "text/x-python",
   "name": "python",
   "nbconvert_exporter": "python",
   "pygments_lexer": "ipython3",
   "version": "3.10.11"
  }
 },
 "nbformat": 4,
 "nbformat_minor": 5
}
