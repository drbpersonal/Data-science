{
 "cells": [
  {
   "cell_type": "code",
   "execution_count": 1,
   "id": "64cab5a2",
   "metadata": {},
   "outputs": [],
   "source": [
    "import nltk"
   ]
  },
  {
   "cell_type": "code",
   "execution_count": 2,
   "id": "62840615",
   "metadata": {},
   "outputs": [],
   "source": [
    "import numpy as np\n",
    "import pandas as pd\n",
    "import matplotlib.pyplot as plt"
   ]
  },
  {
   "cell_type": "code",
   "execution_count": 3,
   "id": "215de9d6",
   "metadata": {},
   "outputs": [],
   "source": [
    "par =\"\"\"Take part in a violent physical structure is called fighting. Fighting is world worst habit,\n",
    "it diminishes the love between the relations or some times it turned into a serious condition like a murder.\n",
    "Anger is the primary cause of fighting, for instance, if anybody hurts other or made any joke of him it defiantly\n",
    "make other person angry and they collide with each other, to overcome this obstacle we need to put some positive steps\n",
    "due to the fact the fighting is not a solution of every matter it always have a bad result.\"\"\""
   ]
  },
  {
   "cell_type": "code",
   "execution_count": 4,
   "id": "31463702",
   "metadata": {},
   "outputs": [],
   "source": [
    "from nltk.corpus import stopwords"
   ]
  },
  {
   "cell_type": "code",
   "execution_count": 5,
   "id": "134649ff",
   "metadata": {},
   "outputs": [],
   "source": [
    "from nltk.tokenize import sent_tokenize,word_tokenize"
   ]
  },
  {
   "cell_type": "code",
   "execution_count": 6,
   "id": "76d23e34",
   "metadata": {},
   "outputs": [],
   "source": [
    "from nltk.stem import PorterStemmer,LancasterStemmer,SnowballStemmer"
   ]
  },
  {
   "cell_type": "code",
   "execution_count": 7,
   "id": "5eab7bba",
   "metadata": {},
   "outputs": [
    {
     "name": "stderr",
     "output_type": "stream",
     "text": [
      "[nltk_data] Downloading package punkt to\n",
      "[nltk_data]     C:\\Users\\USER\\AppData\\Roaming\\nltk_data...\n",
      "[nltk_data]   Package punkt is already up-to-date!\n"
     ]
    },
    {
     "data": {
      "text/plain": [
       "True"
      ]
     },
     "execution_count": 7,
     "metadata": {},
     "output_type": "execute_result"
    }
   ],
   "source": [
    "nltk.download('punkt')"
   ]
  },
  {
   "cell_type": "code",
   "execution_count": 8,
   "id": "05ecc822",
   "metadata": {},
   "outputs": [],
   "source": [
    "sentence = sent_tokenize(par)"
   ]
  },
  {
   "cell_type": "code",
   "execution_count": 9,
   "id": "7292a14b",
   "metadata": {},
   "outputs": [
    {
     "data": {
      "text/plain": [
       "['Take part in a violent physical structure is called fighting.',\n",
       " 'Fighting is world worst habit,\\nit diminishes the love between the relations or some times it turned into a serious condition like a murder.',\n",
       " 'Anger is the primary cause of fighting, for instance, if anybody hurts other or made any joke of him it defiantly\\nmake other person angry and they collide with each other, to overcome this obstacle we need to put some positive steps\\ndue to the fact the fighting is not a solution of every matter it always have a bad result.']"
      ]
     },
     "execution_count": 9,
     "metadata": {},
     "output_type": "execute_result"
    }
   ],
   "source": [
    "sentence"
   ]
  },
  {
   "cell_type": "code",
   "execution_count": 10,
   "id": "8ae85e79",
   "metadata": {},
   "outputs": [
    {
     "data": {
      "text/plain": [
       "3"
      ]
     },
     "execution_count": 10,
     "metadata": {},
     "output_type": "execute_result"
    }
   ],
   "source": [
    "len(sentence)"
   ]
  },
  {
   "cell_type": "code",
   "execution_count": 11,
   "id": "0cd12449",
   "metadata": {},
   "outputs": [
    {
     "data": {
      "text/plain": [
       "['Take',\n",
       " 'part',\n",
       " 'in',\n",
       " 'a',\n",
       " 'violent',\n",
       " 'physical',\n",
       " 'structure',\n",
       " 'is',\n",
       " 'called',\n",
       " 'fighting',\n",
       " '.',\n",
       " 'Fighting',\n",
       " 'is',\n",
       " 'world',\n",
       " 'worst',\n",
       " 'habit',\n",
       " ',',\n",
       " 'it',\n",
       " 'diminishes',\n",
       " 'the',\n",
       " 'love',\n",
       " 'between',\n",
       " 'the',\n",
       " 'relations',\n",
       " 'or',\n",
       " 'some',\n",
       " 'times',\n",
       " 'it',\n",
       " 'turned',\n",
       " 'into',\n",
       " 'a',\n",
       " 'serious',\n",
       " 'condition',\n",
       " 'like',\n",
       " 'a',\n",
       " 'murder',\n",
       " '.',\n",
       " 'Anger',\n",
       " 'is',\n",
       " 'the',\n",
       " 'primary',\n",
       " 'cause',\n",
       " 'of',\n",
       " 'fighting',\n",
       " ',',\n",
       " 'for',\n",
       " 'instance',\n",
       " ',',\n",
       " 'if',\n",
       " 'anybody',\n",
       " 'hurts',\n",
       " 'other',\n",
       " 'or',\n",
       " 'made',\n",
       " 'any',\n",
       " 'joke',\n",
       " 'of',\n",
       " 'him',\n",
       " 'it',\n",
       " 'defiantly',\n",
       " 'make',\n",
       " 'other',\n",
       " 'person',\n",
       " 'angry',\n",
       " 'and',\n",
       " 'they',\n",
       " 'collide',\n",
       " 'with',\n",
       " 'each',\n",
       " 'other',\n",
       " ',',\n",
       " 'to',\n",
       " 'overcome',\n",
       " 'this',\n",
       " 'obstacle',\n",
       " 'we',\n",
       " 'need',\n",
       " 'to',\n",
       " 'put',\n",
       " 'some',\n",
       " 'positive',\n",
       " 'steps',\n",
       " 'due',\n",
       " 'to',\n",
       " 'the',\n",
       " 'fact',\n",
       " 'the',\n",
       " 'fighting',\n",
       " 'is',\n",
       " 'not',\n",
       " 'a',\n",
       " 'solution',\n",
       " 'of',\n",
       " 'every',\n",
       " 'matter',\n",
       " 'it',\n",
       " 'always',\n",
       " 'have',\n",
       " 'a',\n",
       " 'bad',\n",
       " 'result',\n",
       " '.']"
      ]
     },
     "execution_count": 11,
     "metadata": {},
     "output_type": "execute_result"
    }
   ],
   "source": [
    "word_tokenize(par)"
   ]
  },
  {
   "cell_type": "code",
   "execution_count": 12,
   "id": "8113efb5",
   "metadata": {},
   "outputs": [],
   "source": [
    "word_tokens =[]\n",
    "\n",
    "for each_sentence in sentence:\n",
    "    tokenised= word_tokenize(each_sentence)\n",
    "    word_tokens.append(tokenised)"
   ]
  },
  {
   "cell_type": "code",
   "execution_count": 13,
   "id": "27dbeca6",
   "metadata": {},
   "outputs": [
    {
     "data": {
      "text/plain": [
       "['Take',\n",
       " 'part',\n",
       " 'in',\n",
       " 'a',\n",
       " 'violent',\n",
       " 'physical',\n",
       " 'structure',\n",
       " 'is',\n",
       " 'called',\n",
       " 'fighting',\n",
       " '.']"
      ]
     },
     "execution_count": 13,
     "metadata": {},
     "output_type": "execute_result"
    }
   ],
   "source": [
    "word_tokens[0]"
   ]
  },
  {
   "cell_type": "code",
   "execution_count": 14,
   "id": "a640880e",
   "metadata": {},
   "outputs": [
    {
     "name": "stderr",
     "output_type": "stream",
     "text": [
      "[nltk_data] Downloading package stopwords to\n",
      "[nltk_data]     C:\\Users\\USER\\AppData\\Roaming\\nltk_data...\n",
      "[nltk_data]   Package stopwords is already up-to-date!\n"
     ]
    },
    {
     "data": {
      "text/plain": [
       "True"
      ]
     },
     "execution_count": 14,
     "metadata": {},
     "output_type": "execute_result"
    }
   ],
   "source": [
    "nltk.download('stopwords')"
   ]
  },
  {
   "cell_type": "code",
   "execution_count": 15,
   "id": "179b21e1",
   "metadata": {},
   "outputs": [],
   "source": [
    "stop_words = stopwords.words('english')"
   ]
  },
  {
   "cell_type": "code",
   "execution_count": 16,
   "id": "c6864d72",
   "metadata": {},
   "outputs": [],
   "source": [
    "# stop_words"
   ]
  },
  {
   "cell_type": "code",
   "execution_count": 17,
   "id": "3b804454",
   "metadata": {},
   "outputs": [
    {
     "data": {
      "text/plain": [
       "['.', ',', ':', ':', '!', '?', '\"', '-', '(', ')']"
      ]
     },
     "execution_count": 17,
     "metadata": {},
     "output_type": "execute_result"
    }
   ],
   "source": [
    "common_punctuation=['.',',',':',':','!','?','\"','-','(',')']\n",
    "common_punctuation"
   ]
  },
  {
   "cell_type": "code",
   "execution_count": 18,
   "id": "4c5f85b0",
   "metadata": {},
   "outputs": [],
   "source": [
    "word_cleaned=[]"
   ]
  },
  {
   "cell_type": "code",
   "execution_count": 19,
   "id": "c1f63f3e",
   "metadata": {},
   "outputs": [
    {
     "name": "stdout",
     "output_type": "stream",
     "text": [
      "['Take', 'part', 'in', 'a', 'violent', 'physical', 'structure', 'is', 'called', 'fighting', '.']\n",
      "['Fighting', 'is', 'world', 'worst', 'habit', ',', 'it', 'diminishes', 'the', 'love', 'between', 'the', 'relations', 'or', 'some', 'times', 'it', 'turned', 'into', 'a', 'serious', 'condition', 'like', 'a', 'murder', '.']\n",
      "['Anger', 'is', 'the', 'primary', 'cause', 'of', 'fighting', ',', 'for', 'instance', ',', 'if', 'anybody', 'hurts', 'other', 'or', 'made', 'any', 'joke', 'of', 'him', 'it', 'defiantly', 'make', 'other', 'person', 'angry', 'and', 'they', 'collide', 'with', 'each', 'other', ',', 'to', 'overcome', 'this', 'obstacle', 'we', 'need', 'to', 'put', 'some', 'positive', 'steps', 'due', 'to', 'the', 'fact', 'the', 'fighting', 'is', 'not', 'a', 'solution', 'of', 'every', 'matter', 'it', 'always', 'have', 'a', 'bad', 'result', '.']\n"
     ]
    }
   ],
   "source": [
    "for sentence in word_tokens:\n",
    "    print(sentence)\n",
    "    for token_word in sentence:\n",
    "        pass"
   ]
  },
  {
   "cell_type": "code",
   "execution_count": 20,
   "id": "af449952",
   "metadata": {},
   "outputs": [],
   "source": [
    "for sentence in word_tokens:\n",
    "    for token_word in sentence:\n",
    "        token_word= token_word.lower()\n",
    "        if(token_word not in stop_words) and (token_word not in common_punctuation):\n",
    "            word_cleaned.append(token_word)"
   ]
  },
  {
   "cell_type": "code",
   "execution_count": 21,
   "id": "b28f9ec6",
   "metadata": {},
   "outputs": [
    {
     "data": {
      "text/plain": [
       "['take',\n",
       " 'part',\n",
       " 'violent',\n",
       " 'physical',\n",
       " 'structure',\n",
       " 'called',\n",
       " 'fighting',\n",
       " 'fighting',\n",
       " 'world',\n",
       " 'worst',\n",
       " 'habit',\n",
       " 'diminishes',\n",
       " 'love',\n",
       " 'relations',\n",
       " 'times',\n",
       " 'turned',\n",
       " 'serious',\n",
       " 'condition',\n",
       " 'like',\n",
       " 'murder',\n",
       " 'anger',\n",
       " 'primary',\n",
       " 'cause',\n",
       " 'fighting',\n",
       " 'instance',\n",
       " 'anybody',\n",
       " 'hurts',\n",
       " 'made',\n",
       " 'joke',\n",
       " 'defiantly',\n",
       " 'make',\n",
       " 'person',\n",
       " 'angry',\n",
       " 'collide',\n",
       " 'overcome',\n",
       " 'obstacle',\n",
       " 'need',\n",
       " 'put',\n",
       " 'positive',\n",
       " 'steps',\n",
       " 'due',\n",
       " 'fact',\n",
       " 'fighting',\n",
       " 'solution',\n",
       " 'every',\n",
       " 'matter',\n",
       " 'always',\n",
       " 'bad',\n",
       " 'result']"
      ]
     },
     "execution_count": 21,
     "metadata": {},
     "output_type": "execute_result"
    }
   ],
   "source": [
    "word_cleaned"
   ]
  },
  {
   "cell_type": "code",
   "execution_count": 22,
   "id": "933b45f4",
   "metadata": {},
   "outputs": [],
   "source": [
    "word_cleaned = list(set(word_cleaned))"
   ]
  },
  {
   "cell_type": "code",
   "execution_count": 23,
   "id": "3c9e9caa",
   "metadata": {},
   "outputs": [
    {
     "data": {
      "text/plain": [
       "['put',\n",
       " 'matter',\n",
       " 'result',\n",
       " 'cause',\n",
       " 'collide',\n",
       " 'defiantly',\n",
       " 'murder',\n",
       " 'turned',\n",
       " 'habit',\n",
       " 'instance',\n",
       " 'diminishes',\n",
       " 'angry',\n",
       " 'solution',\n",
       " 'called',\n",
       " 'violent',\n",
       " 'due',\n",
       " 'structure',\n",
       " 'world',\n",
       " 'always',\n",
       " 'anger',\n",
       " 'anybody',\n",
       " 'like',\n",
       " 'love',\n",
       " 'worst',\n",
       " 'every',\n",
       " 'positive',\n",
       " 'physical',\n",
       " 'fact',\n",
       " 'overcome',\n",
       " 'make',\n",
       " 'times',\n",
       " 'relations',\n",
       " 'serious',\n",
       " 'steps',\n",
       " 'obstacle',\n",
       " 'condition',\n",
       " 'need',\n",
       " 'bad',\n",
       " 'person',\n",
       " 'part',\n",
       " 'joke',\n",
       " 'fighting',\n",
       " 'primary',\n",
       " 'made',\n",
       " 'hurts',\n",
       " 'take']"
      ]
     },
     "execution_count": 23,
     "metadata": {},
     "output_type": "execute_result"
    }
   ],
   "source": [
    "word_cleaned"
   ]
  },
  {
   "cell_type": "code",
   "execution_count": 33,
   "id": "653a640e",
   "metadata": {},
   "outputs": [],
   "source": [
    "porter_stemmer =   PorterStemmer ()\n",
    "lancaster_stemmer = LancasterStemmer()\n",
    "snowball_stemmer = SnowballStemmer(language='english')"
   ]
  },
  {
   "cell_type": "code",
   "execution_count": 36,
   "id": "3f11428a",
   "metadata": {},
   "outputs": [],
   "source": [
    "stemmed_tokens=[]\n",
    "\n",
    "for each_word in word_cleaned:\n",
    "    stemmed_tokens.append(porter_stemmer.stem(each_word))\n",
    "    stemmed_tokens"
   ]
  },
  {
   "cell_type": "code",
   "execution_count": 37,
   "id": "46ddcd86",
   "metadata": {},
   "outputs": [
    {
     "data": {
      "text/plain": [
       "['put',\n",
       " 'matter',\n",
       " 'result',\n",
       " 'caus',\n",
       " 'collid',\n",
       " 'defiantli',\n",
       " 'murder',\n",
       " 'turn',\n",
       " 'habit',\n",
       " 'instanc',\n",
       " 'diminish',\n",
       " 'angri',\n",
       " 'solut',\n",
       " 'call',\n",
       " 'violent',\n",
       " 'due',\n",
       " 'structur',\n",
       " 'world',\n",
       " 'alway',\n",
       " 'anger',\n",
       " 'anybodi',\n",
       " 'like',\n",
       " 'love',\n",
       " 'worst',\n",
       " 'everi',\n",
       " 'posit',\n",
       " 'physic',\n",
       " 'fact',\n",
       " 'overcom',\n",
       " 'make',\n",
       " 'time',\n",
       " 'relat',\n",
       " 'seriou',\n",
       " 'step',\n",
       " 'obstacl',\n",
       " 'condit',\n",
       " 'need',\n",
       " 'bad',\n",
       " 'person',\n",
       " 'part',\n",
       " 'joke',\n",
       " 'fight',\n",
       " 'primari',\n",
       " 'made',\n",
       " 'hurt',\n",
       " 'take']"
      ]
     },
     "execution_count": 37,
     "metadata": {},
     "output_type": "execute_result"
    }
   ],
   "source": [
    "stemmed_tokens"
   ]
  },
  {
   "cell_type": "code",
   "execution_count": 38,
   "id": "7edb52f8",
   "metadata": {},
   "outputs": [],
   "source": [
    "from nltk.tag import pos_tag"
   ]
  },
  {
   "cell_type": "code",
   "execution_count": 39,
   "id": "d47433b9",
   "metadata": {},
   "outputs": [
    {
     "name": "stderr",
     "output_type": "stream",
     "text": [
      "[nltk_data] Downloading package averaged_perceptron_tagger to\n",
      "[nltk_data]     C:\\Users\\USER\\AppData\\Roaming\\nltk_data...\n",
      "[nltk_data]   Unzipping taggers\\averaged_perceptron_tagger.zip.\n"
     ]
    },
    {
     "data": {
      "text/plain": [
       "True"
      ]
     },
     "execution_count": 39,
     "metadata": {},
     "output_type": "execute_result"
    }
   ],
   "source": [
    "nltk.download('averaged_perceptron_tagger')"
   ]
  },
  {
   "cell_type": "code",
   "execution_count": 40,
   "id": "5d706e9b",
   "metadata": {},
   "outputs": [],
   "source": [
    "taged_tokens = pos_tag(word_cleaned)"
   ]
  },
  {
   "cell_type": "code",
   "execution_count": 41,
   "id": "4c3b7342",
   "metadata": {},
   "outputs": [
    {
     "data": {
      "text/plain": [
       "[('put', 'NN'),\n",
       " ('matter', 'NN'),\n",
       " ('result', 'NN'),\n",
       " ('cause', 'NN'),\n",
       " ('collide', 'NN'),\n",
       " ('defiantly', 'RB'),\n",
       " ('murder', 'RBR'),\n",
       " ('turned', 'JJ'),\n",
       " ('habit', 'NN'),\n",
       " ('instance', 'NN'),\n",
       " ('diminishes', 'NNS'),\n",
       " ('angry', 'JJ'),\n",
       " ('solution', 'NN'),\n",
       " ('called', 'VBN'),\n",
       " ('violent', 'JJ'),\n",
       " ('due', 'JJ'),\n",
       " ('structure', 'NN'),\n",
       " ('world', 'NN'),\n",
       " ('always', 'RB'),\n",
       " ('anger', 'VBP'),\n",
       " ('anybody', 'NN'),\n",
       " ('like', 'IN'),\n",
       " ('love', 'NN'),\n",
       " ('worst', 'RB'),\n",
       " ('every', 'DT'),\n",
       " ('positive', 'JJ'),\n",
       " ('physical', 'JJ'),\n",
       " ('fact', 'NN'),\n",
       " ('overcome', 'JJ'),\n",
       " ('make', 'NN'),\n",
       " ('times', 'NNS'),\n",
       " ('relations', 'NNS'),\n",
       " ('serious', 'JJ'),\n",
       " ('steps', 'NNS'),\n",
       " ('obstacle', 'VBP'),\n",
       " ('condition', 'NN'),\n",
       " ('need', 'NN'),\n",
       " ('bad', 'JJ'),\n",
       " ('person', 'NN'),\n",
       " ('part', 'NN'),\n",
       " ('joke', 'NN'),\n",
       " ('fighting', 'VBG'),\n",
       " ('primary', 'JJ'),\n",
       " ('made', 'VBN'),\n",
       " ('hurts', 'NNS'),\n",
       " ('take', 'VB')]"
      ]
     },
     "execution_count": 41,
     "metadata": {},
     "output_type": "execute_result"
    }
   ],
   "source": [
    "taged_tokens"
   ]
  },
  {
   "cell_type": "code",
   "execution_count": null,
   "id": "675ce1c0",
   "metadata": {},
   "outputs": [],
   "source": []
  }
 ],
 "metadata": {
  "kernelspec": {
   "display_name": "Python 3 (ipykernel)",
   "language": "python",
   "name": "python3"
  },
  "language_info": {
   "codemirror_mode": {
    "name": "ipython",
    "version": 3
   },
   "file_extension": ".py",
   "mimetype": "text/x-python",
   "name": "python",
   "nbconvert_exporter": "python",
   "pygments_lexer": "ipython3",
   "version": "3.10.9"
  }
 },
 "nbformat": 4,
 "nbformat_minor": 5
}
