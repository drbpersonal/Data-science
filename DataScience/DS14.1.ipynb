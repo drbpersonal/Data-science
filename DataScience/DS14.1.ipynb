{
 "cells": [
  {
   "cell_type": "code",
   "execution_count": 1,
   "id": "7dae9e4d",
   "metadata": {},
   "outputs": [],
   "source": [
    "import numpy as np\n",
    "import joblib"
   ]
  },
  {
   "cell_type": "code",
   "execution_count": 2,
   "id": "59025130",
   "metadata": {},
   "outputs": [],
   "source": [
    "model = joblib.load('knn_california_housing.pkl')"
   ]
  },
  {
   "cell_type": "code",
   "execution_count": 3,
   "id": "ad0b5bc2",
   "metadata": {},
   "outputs": [],
   "source": [
    "scalar =joblib.load('./standard_scalar.pkl')"
   ]
  },
  {
   "cell_type": "code",
   "execution_count": 4,
   "id": "faa5da22",
   "metadata": {},
   "outputs": [],
   "source": [
    "val=[[ 3.43750000e+00,  2.80000000e+01,  4.85849057e+00,\n",
    "         1.16666667e+00,  1.33400000e+03,  4.19496855e+00,\n",
    "         3.42900000e+01, -1.18890000e+02, ],\n",
    "       [ 3.00000000e+00,  5.00000000e+01,  4.29735683e+00,\n",
    "         1.00881057e+00,  1.36200000e+03,  3.00000000e+00,\n",
    "         3.39800000e+01, -1.18040000e+02,  ],\n",
    "       [ 6.92570000e+00,  2.80000000e+01,  6.96594427e+00,\n",
    "         1.01857585e+00,  8.26000000e+02,  2.55727554e+00,\n",
    "         3.35400000e+01, -1.17760000e+02,  ]]"
   ]
  },
  {
   "cell_type": "code",
   "execution_count": 5,
   "id": "015edb86",
   "metadata": {},
   "outputs": [],
   "source": [
    "val=np.array(val)"
   ]
  },
  {
   "cell_type": "code",
   "execution_count": 6,
   "id": "ebd8f618",
   "metadata": {},
   "outputs": [
    {
     "name": "stderr",
     "output_type": "stream",
     "text": [
      "C:\\Users\\USER\\anaconda3\\lib\\site-packages\\sklearn\\base.py:420: UserWarning: X does not have valid feature names, but StandardScaler was fitted with feature names\n",
      "  warnings.warn(\n"
     ]
    }
   ],
   "source": [
    "val=scalar.transform(val)"
   ]
  },
  {
   "cell_type": "code",
   "execution_count": 7,
   "id": "b40953fd",
   "metadata": {},
   "outputs": [
    {
     "data": {
      "text/plain": [
       "array([2.05128571, 2.11328571, 4.18971714])"
      ]
     },
     "execution_count": 7,
     "metadata": {},
     "output_type": "execute_result"
    }
   ],
   "source": [
    "model.predict(val)"
   ]
  },
  {
   "cell_type": "code",
   "execution_count": null,
   "id": "4fe9d8d4",
   "metadata": {},
   "outputs": [],
   "source": []
  }
 ],
 "metadata": {
  "kernelspec": {
   "display_name": "Python 3 (ipykernel)",
   "language": "python",
   "name": "python3"
  },
  "language_info": {
   "codemirror_mode": {
    "name": "ipython",
    "version": 3
   },
   "file_extension": ".py",
   "mimetype": "text/x-python",
   "name": "python",
   "nbconvert_exporter": "python",
   "pygments_lexer": "ipython3",
   "version": "3.10.9"
  }
 },
 "nbformat": 4,
 "nbformat_minor": 5
}
