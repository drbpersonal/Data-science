{
 "cells": [
  {
   "cell_type": "code",
   "execution_count": 1,
   "id": "9b33dd7c",
   "metadata": {},
   "outputs": [],
   "source": [
    "import nltk"
   ]
  },
  {
   "cell_type": "code",
   "execution_count": 2,
   "id": "c0efdbe2",
   "metadata": {},
   "outputs": [],
   "source": [
    "import numpy as np\n",
    "import pandas as pd\n",
    "import matplotlib.pyplot as plt"
   ]
  },
  {
   "cell_type": "code",
   "execution_count": 3,
   "id": "55dd67e9",
   "metadata": {},
   "outputs": [],
   "source": [
    "par =\"\"\"Take part in a violent physical structure is called fighting. Fighting is world worst habit,\n",
    "it diminishes the love between the relations or some times it turned into a serious condition like a murder.\n",
    "Anger is the primary cause of fighting, for instance, if anybody hurts other or made any joke of him it defiantly\n",
    "make other person angry and they collide with each other, to overcome this obstacle we need to put some positive steps\n",
    "due to the fact the fighting is not a solution of every matter it always have a bad result.\"\"\""
   ]
  },
  {
   "cell_type": "code",
   "execution_count": 4,
   "id": "4366dc8e",
   "metadata": {},
   "outputs": [],
   "source": [
    "from nltk.corpus import stopwords"
   ]
  },
  {
   "cell_type": "code",
   "execution_count": 5,
   "id": "a8f1d9a3",
   "metadata": {},
   "outputs": [],
   "source": [
    "from nltk.tokenize import sent_tokenize,word_tokenize"
   ]
  },
  {
   "cell_type": "code",
   "execution_count": 6,
   "id": "6a0ad48f",
   "metadata": {},
   "outputs": [],
   "source": [
    "from nltk.stem import PorterStemmer,LancasterStemmer,SnowballStemmer"
   ]
  },
  {
   "cell_type": "code",
   "execution_count": 7,
   "id": "b7cb08cd",
   "metadata": {},
   "outputs": [
    {
     "name": "stderr",
     "output_type": "stream",
     "text": [
      "[nltk_data] Downloading package punkt to\n",
      "[nltk_data]     C:\\Users\\USER\\AppData\\Roaming\\nltk_data...\n",
      "[nltk_data]   Package punkt is already up-to-date!\n"
     ]
    },
    {
     "data": {
      "text/plain": [
       "True"
      ]
     },
     "execution_count": 7,
     "metadata": {},
     "output_type": "execute_result"
    }
   ],
   "source": [
    "nltk.download('punkt')"
   ]
  },
  {
   "cell_type": "code",
   "execution_count": 8,
   "id": "3c20692b",
   "metadata": {},
   "outputs": [],
   "source": [
    "sentence = sent_tokenize(par)"
   ]
  },
  {
   "cell_type": "code",
   "execution_count": 9,
   "id": "76e0f01c",
   "metadata": {},
   "outputs": [
    {
     "data": {
      "text/plain": [
       "['Take part in a violent physical structure is called fighting.',\n",
       " 'Fighting is world worst habit,\\nit diminishes the love between the relations or some times it turned into a serious condition like a murder.',\n",
       " 'Anger is the primary cause of fighting, for instance, if anybody hurts other or made any joke of him it defiantly\\nmake other person angry and they collide with each other, to overcome this obstacle we need to put some positive steps\\ndue to the fact the fighting is not a solution of every matter it always have a bad result.']"
      ]
     },
     "execution_count": 9,
     "metadata": {},
     "output_type": "execute_result"
    }
   ],
   "source": [
    "sentence"
   ]
  },
  {
   "cell_type": "code",
   "execution_count": 10,
   "id": "9ba1dec5",
   "metadata": {},
   "outputs": [
    {
     "data": {
      "text/plain": [
       "3"
      ]
     },
     "execution_count": 10,
     "metadata": {},
     "output_type": "execute_result"
    }
   ],
   "source": [
    "len(sentence)"
   ]
  },
  {
   "cell_type": "code",
   "execution_count": 11,
   "id": "eedd0eb5",
   "metadata": {},
   "outputs": [
    {
     "data": {
      "text/plain": [
       "['Take',\n",
       " 'part',\n",
       " 'in',\n",
       " 'a',\n",
       " 'violent',\n",
       " 'physical',\n",
       " 'structure',\n",
       " 'is',\n",
       " 'called',\n",
       " 'fighting',\n",
       " '.',\n",
       " 'Fighting',\n",
       " 'is',\n",
       " 'world',\n",
       " 'worst',\n",
       " 'habit',\n",
       " ',',\n",
       " 'it',\n",
       " 'diminishes',\n",
       " 'the',\n",
       " 'love',\n",
       " 'between',\n",
       " 'the',\n",
       " 'relations',\n",
       " 'or',\n",
       " 'some',\n",
       " 'times',\n",
       " 'it',\n",
       " 'turned',\n",
       " 'into',\n",
       " 'a',\n",
       " 'serious',\n",
       " 'condition',\n",
       " 'like',\n",
       " 'a',\n",
       " 'murder',\n",
       " '.',\n",
       " 'Anger',\n",
       " 'is',\n",
       " 'the',\n",
       " 'primary',\n",
       " 'cause',\n",
       " 'of',\n",
       " 'fighting',\n",
       " ',',\n",
       " 'for',\n",
       " 'instance',\n",
       " ',',\n",
       " 'if',\n",
       " 'anybody',\n",
       " 'hurts',\n",
       " 'other',\n",
       " 'or',\n",
       " 'made',\n",
       " 'any',\n",
       " 'joke',\n",
       " 'of',\n",
       " 'him',\n",
       " 'it',\n",
       " 'defiantly',\n",
       " 'make',\n",
       " 'other',\n",
       " 'person',\n",
       " 'angry',\n",
       " 'and',\n",
       " 'they',\n",
       " 'collide',\n",
       " 'with',\n",
       " 'each',\n",
       " 'other',\n",
       " ',',\n",
       " 'to',\n",
       " 'overcome',\n",
       " 'this',\n",
       " 'obstacle',\n",
       " 'we',\n",
       " 'need',\n",
       " 'to',\n",
       " 'put',\n",
       " 'some',\n",
       " 'positive',\n",
       " 'steps',\n",
       " 'due',\n",
       " 'to',\n",
       " 'the',\n",
       " 'fact',\n",
       " 'the',\n",
       " 'fighting',\n",
       " 'is',\n",
       " 'not',\n",
       " 'a',\n",
       " 'solution',\n",
       " 'of',\n",
       " 'every',\n",
       " 'matter',\n",
       " 'it',\n",
       " 'always',\n",
       " 'have',\n",
       " 'a',\n",
       " 'bad',\n",
       " 'result',\n",
       " '.']"
      ]
     },
     "execution_count": 11,
     "metadata": {},
     "output_type": "execute_result"
    }
   ],
   "source": [
    "word_tokenize(par)"
   ]
  },
  {
   "cell_type": "code",
   "execution_count": 12,
   "id": "1ef458e3",
   "metadata": {},
   "outputs": [],
   "source": [
    "word_tokens =[]\n",
    "\n",
    "for each_sentence in sentence:\n",
    "    tokenised= word_tokenize(each_sentence)\n",
    "    word_tokens.append(tokenised)"
   ]
  },
  {
   "cell_type": "code",
   "execution_count": 13,
   "id": "0e9e0915",
   "metadata": {},
   "outputs": [
    {
     "data": {
      "text/plain": [
       "['Take',\n",
       " 'part',\n",
       " 'in',\n",
       " 'a',\n",
       " 'violent',\n",
       " 'physical',\n",
       " 'structure',\n",
       " 'is',\n",
       " 'called',\n",
       " 'fighting',\n",
       " '.']"
      ]
     },
     "execution_count": 13,
     "metadata": {},
     "output_type": "execute_result"
    }
   ],
   "source": [
    "word_tokens[0]"
   ]
  },
  {
   "cell_type": "code",
   "execution_count": 14,
   "id": "7a40544d",
   "metadata": {},
   "outputs": [
    {
     "name": "stderr",
     "output_type": "stream",
     "text": [
      "[nltk_data] Downloading package stopwords to\n",
      "[nltk_data]     C:\\Users\\USER\\AppData\\Roaming\\nltk_data...\n",
      "[nltk_data]   Package stopwords is already up-to-date!\n"
     ]
    },
    {
     "data": {
      "text/plain": [
       "True"
      ]
     },
     "execution_count": 14,
     "metadata": {},
     "output_type": "execute_result"
    }
   ],
   "source": [
    "nltk.download('stopwords')"
   ]
  },
  {
   "cell_type": "code",
   "execution_count": 15,
   "id": "ccbf06ef",
   "metadata": {},
   "outputs": [],
   "source": [
    "stop_words = stopwords.words('english')"
   ]
  },
  {
   "cell_type": "code",
   "execution_count": 16,
   "id": "a10c205d",
   "metadata": {},
   "outputs": [],
   "source": [
    "# stop_words"
   ]
  },
  {
   "cell_type": "code",
   "execution_count": 17,
   "id": "fffaee12",
   "metadata": {},
   "outputs": [
    {
     "data": {
      "text/plain": [
       "['.', ',', ':', ':', '!', '?', '\"', '-', '(', ')']"
      ]
     },
     "execution_count": 17,
     "metadata": {},
     "output_type": "execute_result"
    }
   ],
   "source": [
    "common_punctuation=['.',',',':',':','!','?','\"','-','(',')']\n",
    "common_punctuation"
   ]
  },
  {
   "cell_type": "code",
   "execution_count": 18,
   "id": "ec08d48e",
   "metadata": {},
   "outputs": [],
   "source": [
    "word_cleaned=[]"
   ]
  },
  {
   "cell_type": "code",
   "execution_count": 19,
   "id": "885468f4",
   "metadata": {},
   "outputs": [
    {
     "name": "stdout",
     "output_type": "stream",
     "text": [
      "['Take', 'part', 'in', 'a', 'violent', 'physical', 'structure', 'is', 'called', 'fighting', '.']\n",
      "['Fighting', 'is', 'world', 'worst', 'habit', ',', 'it', 'diminishes', 'the', 'love', 'between', 'the', 'relations', 'or', 'some', 'times', 'it', 'turned', 'into', 'a', 'serious', 'condition', 'like', 'a', 'murder', '.']\n",
      "['Anger', 'is', 'the', 'primary', 'cause', 'of', 'fighting', ',', 'for', 'instance', ',', 'if', 'anybody', 'hurts', 'other', 'or', 'made', 'any', 'joke', 'of', 'him', 'it', 'defiantly', 'make', 'other', 'person', 'angry', 'and', 'they', 'collide', 'with', 'each', 'other', ',', 'to', 'overcome', 'this', 'obstacle', 'we', 'need', 'to', 'put', 'some', 'positive', 'steps', 'due', 'to', 'the', 'fact', 'the', 'fighting', 'is', 'not', 'a', 'solution', 'of', 'every', 'matter', 'it', 'always', 'have', 'a', 'bad', 'result', '.']\n"
     ]
    }
   ],
   "source": [
    "for sentence in word_tokens:\n",
    "    print(sentence)\n",
    "    for token_word in sentence:\n",
    "        pass"
   ]
  },
  {
   "cell_type": "code",
   "execution_count": 20,
   "id": "cceb1b78",
   "metadata": {},
   "outputs": [],
   "source": [
    "for sentence in word_tokens:\n",
    "    for token_word in sentence:\n",
    "        token_word= token_word.lower()\n",
    "        if(token_word not in stop_words) and (token_word not in common_punctuation):\n",
    "            word_cleaned.append(token_word)"
   ]
  },
  {
   "cell_type": "code",
   "execution_count": 21,
   "id": "2d2cd344",
   "metadata": {},
   "outputs": [
    {
     "data": {
      "text/plain": [
       "['take',\n",
       " 'part',\n",
       " 'violent',\n",
       " 'physical',\n",
       " 'structure',\n",
       " 'called',\n",
       " 'fighting',\n",
       " 'fighting',\n",
       " 'world',\n",
       " 'worst',\n",
       " 'habit',\n",
       " 'diminishes',\n",
       " 'love',\n",
       " 'relations',\n",
       " 'times',\n",
       " 'turned',\n",
       " 'serious',\n",
       " 'condition',\n",
       " 'like',\n",
       " 'murder',\n",
       " 'anger',\n",
       " 'primary',\n",
       " 'cause',\n",
       " 'fighting',\n",
       " 'instance',\n",
       " 'anybody',\n",
       " 'hurts',\n",
       " 'made',\n",
       " 'joke',\n",
       " 'defiantly',\n",
       " 'make',\n",
       " 'person',\n",
       " 'angry',\n",
       " 'collide',\n",
       " 'overcome',\n",
       " 'obstacle',\n",
       " 'need',\n",
       " 'put',\n",
       " 'positive',\n",
       " 'steps',\n",
       " 'due',\n",
       " 'fact',\n",
       " 'fighting',\n",
       " 'solution',\n",
       " 'every',\n",
       " 'matter',\n",
       " 'always',\n",
       " 'bad',\n",
       " 'result']"
      ]
     },
     "execution_count": 21,
     "metadata": {},
     "output_type": "execute_result"
    }
   ],
   "source": [
    "word_cleaned"
   ]
  },
  {
   "cell_type": "code",
   "execution_count": 22,
   "id": "fe5e7494",
   "metadata": {},
   "outputs": [],
   "source": [
    "word_cleaned = list(set(word_cleaned))"
   ]
  },
  {
   "cell_type": "code",
   "execution_count": 23,
   "id": "9645a2b8",
   "metadata": {},
   "outputs": [
    {
     "data": {
      "text/plain": [
       "['put',\n",
       " 'matter',\n",
       " 'result',\n",
       " 'cause',\n",
       " 'collide',\n",
       " 'defiantly',\n",
       " 'murder',\n",
       " 'turned',\n",
       " 'habit',\n",
       " 'instance',\n",
       " 'diminishes',\n",
       " 'angry',\n",
       " 'solution',\n",
       " 'called',\n",
       " 'violent',\n",
       " 'due',\n",
       " 'structure',\n",
       " 'world',\n",
       " 'always',\n",
       " 'anger',\n",
       " 'anybody',\n",
       " 'like',\n",
       " 'love',\n",
       " 'worst',\n",
       " 'every',\n",
       " 'positive',\n",
       " 'physical',\n",
       " 'fact',\n",
       " 'overcome',\n",
       " 'make',\n",
       " 'times',\n",
       " 'relations',\n",
       " 'serious',\n",
       " 'steps',\n",
       " 'obstacle',\n",
       " 'condition',\n",
       " 'need',\n",
       " 'bad',\n",
       " 'person',\n",
       " 'part',\n",
       " 'joke',\n",
       " 'fighting',\n",
       " 'primary',\n",
       " 'made',\n",
       " 'hurts',\n",
       " 'take']"
      ]
     },
     "execution_count": 23,
     "metadata": {},
     "output_type": "execute_result"
    }
   ],
   "source": [
    "word_cleaned"
   ]
  },
  {
   "cell_type": "code",
   "execution_count": 33,
   "id": "40ea4f10",
   "metadata": {},
   "outputs": [],
   "source": [
    "porter_stemmer =   PorterStemmer ()\n",
    "lancaster_stemmer = LancasterStemmer()\n",
    "snowball_stemmer = SnowballStemmer(language='english')"
   ]
  },
  {
   "cell_type": "code",
   "execution_count": 35,
   "id": "b047ecc3",
   "metadata": {},
   "outputs": [
    {
     "ename": "NameError",
     "evalue": "name 'stemmed_token' is not defined",
     "output_type": "error",
     "traceback": [
      "\u001b[1;31m---------------------------------------------------------------------------\u001b[0m",
      "\u001b[1;31mNameError\u001b[0m                                 Traceback (most recent call last)",
      "Cell \u001b[1;32mIn[35], line 5\u001b[0m\n\u001b[0;32m      3\u001b[0m \u001b[38;5;28;01mfor\u001b[39;00m each_word \u001b[38;5;129;01min\u001b[39;00m word_cleaned:\n\u001b[0;32m      4\u001b[0m     stemmed_tokens\u001b[38;5;241m.\u001b[39mappend(porter_stemmer\u001b[38;5;241m.\u001b[39mstem(each_word))\n\u001b[1;32m----> 5\u001b[0m     \u001b[43mstemmed_token\u001b[49m\n",
      "\u001b[1;31mNameError\u001b[0m: name 'stemmed_token' is not defined"
     ]
    }
   ],
   "source": [
    "stemmed_tokens=[]\n",
    "\n",
    "for each_word in word_cleaned:\n",
    "    stemmed_tokens.append(porter_stemmer.stem(each_word))\n",
    "    stemmed_token"
   ]
  },
  {
   "cell_type": "code",
   "execution_count": null,
   "id": "13c15653",
   "metadata": {},
   "outputs": [],
   "source": []
  }
 ],
 "metadata": {
  "kernelspec": {
   "display_name": "Python 3 (ipykernel)",
   "language": "python",
   "name": "python3"
  },
  "language_info": {
   "codemirror_mode": {
    "name": "ipython",
    "version": 3
   },
   "file_extension": ".py",
   "mimetype": "text/x-python",
   "name": "python",
   "nbconvert_exporter": "python",
   "pygments_lexer": "ipython3",
   "version": "3.10.9"
  }
 },
 "nbformat": 4,
 "nbformat_minor": 5
}
