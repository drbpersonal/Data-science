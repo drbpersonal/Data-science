{
 "cells": [
  {
   "cell_type": "markdown",
   "id": "1ac09b78",
   "metadata": {},
   "source": [
    "# Explotatory Data Analysis(EDA)"
   ]
  },
  {
   "cell_type": "code",
   "execution_count": null,
   "id": "e0f827f7",
   "metadata": {},
   "outputs": [],
   "source": [
    "import numpy as np\n",
    "import pandas as pd\n",
    "import matplotlib.pyplot as plt\n",
    "import seaborn as sns"
   ]
  },
  {
   "cell_type": "code",
   "execution_count": null,
   "id": "89e7cd74",
   "metadata": {},
   "outputs": [],
   "source": [
    "df = pd.read_csv('../dataset/bike_share.csv',delimiter=',')"
   ]
  },
  {
   "cell_type": "code",
   "execution_count": null,
   "id": "19a07e26",
   "metadata": {},
   "outputs": [],
   "source": [
    "df.head()#first five samples"
   ]
  },
  {
   "cell_type": "code",
   "execution_count": null,
   "id": "63ee58ec",
   "metadata": {},
   "outputs": [],
   "source": [
    "df.sample(5)"
   ]
  },
  {
   "cell_type": "code",
   "execution_count": null,
   "id": "f191b8a8",
   "metadata": {},
   "outputs": [],
   "source": [
    "df.sample(10,random_state=666)"
   ]
  },
  {
   "cell_type": "code",
   "execution_count": null,
   "id": "c9d27d5f",
   "metadata": {},
   "outputs": [],
   "source": [
    "df=df.drop(['Unnamed: 0'], axis= 1)"
   ]
  },
  {
   "cell_type": "code",
   "execution_count": null,
   "id": "9742794e",
   "metadata": {},
   "outputs": [],
   "source": [
    "df.sample(10,random_state=666)"
   ]
  },
  {
   "cell_type": "code",
   "execution_count": null,
   "id": "1500b0b2",
   "metadata": {},
   "outputs": [],
   "source": [
    "df.shape"
   ]
  },
  {
   "cell_type": "code",
   "execution_count": null,
   "id": "5bf4cae7",
   "metadata": {},
   "outputs": [],
   "source": [
    "pd.__version__"
   ]
  },
  {
   "cell_type": "code",
   "execution_count": null,
   "id": "f36c85a7",
   "metadata": {},
   "outputs": [],
   "source": [
    "df.corr( numeric_only=True)"
   ]
  },
  {
   "cell_type": "code",
   "execution_count": null,
   "id": "3da49543",
   "metadata": {},
   "outputs": [],
   "source": [
    "to_drop = ['atemp','casual','registered']\n",
    "df.drop(to_drop,axis=1, inplace=True)\n",
    "#df = df.drop(to drop,axis=1)"
   ]
  },
  {
   "cell_type": "code",
   "execution_count": null,
   "id": "ce1a8275",
   "metadata": {},
   "outputs": [],
   "source": [
    "df"
   ]
  },
  {
   "cell_type": "code",
   "execution_count": null,
   "id": "bba9df4c",
   "metadata": {},
   "outputs": [],
   "source": [
    "df.columns"
   ]
  },
  {
   "cell_type": "code",
   "execution_count": null,
   "id": "8755d96b",
   "metadata": {},
   "outputs": [],
   "source": [
    "sns.barplot(x='season',y='count',data=df)\n",
    "plt.show()"
   ]
  },
  {
   "cell_type": "code",
   "execution_count": null,
   "id": "7d5e6d6d",
   "metadata": {},
   "outputs": [],
   "source": [
    "sns.barplot(x='holiday',y='count',data=df)\n",
    "plt.show()"
   ]
  },
  {
   "cell_type": "code",
   "execution_count": null,
   "id": "6e9b5181",
   "metadata": {},
   "outputs": [],
   "source": [
    "sns.barplot(x='workingday',y='count',data=df)\n",
    "plt.show()"
   ]
  },
  {
   "cell_type": "code",
   "execution_count": null,
   "id": "9907c8ac",
   "metadata": {},
   "outputs": [],
   "source": [
    "sns.barplot(x='weather',y='count',data=df)\n",
    "plt.show()"
   ]
  },
  {
   "cell_type": "code",
   "execution_count": null,
   "id": "a2e9de2c",
   "metadata": {},
   "outputs": [],
   "source": [
    "plt.figure(figsize=(25,5))\n",
    "sns.pointplot(x='temp',y='count',data=df)\n",
    "plt.show()"
   ]
  },
  {
   "cell_type": "code",
   "execution_count": null,
   "id": "f2581757",
   "metadata": {},
   "outputs": [],
   "source": [
    "plt.figure(figsize=(25,5))\n",
    "sns.pointplot(x='humidity',y='count',data=df)\n",
    "plt.show()"
   ]
  },
  {
   "cell_type": "code",
   "execution_count": null,
   "id": "9e9609a1",
   "metadata": {},
   "outputs": [],
   "source": [
    "plt.figure(figsize=(25,5))\n",
    "\n",
    "sns.pointplot(x='windspeed',y='count',data=df)\n",
    "plt.show()"
   ]
  },
  {
   "cell_type": "code",
   "execution_count": null,
   "id": "e31e6209",
   "metadata": {},
   "outputs": [],
   "source": [
    "df.drop('workingday',axis=1)"
   ]
  },
  {
   "cell_type": "code",
   "execution_count": null,
   "id": "a2114ff4",
   "metadata": {},
   "outputs": [],
   "source": [
    "sns.countplot(x='weather',data=df)"
   ]
  },
  {
   "cell_type": "code",
   "execution_count": null,
   "id": "4ceb12b5",
   "metadata": {},
   "outputs": [],
   "source": [
    "df.describe()"
   ]
  },
  {
   "cell_type": "code",
   "execution_count": null,
   "id": "10685b74",
   "metadata": {},
   "outputs": [],
   "source": [
    "plt.figure(figsize=(25,5))\n",
    "sns.pointplot(x='humidity',y='count',data=df,hue='weather')\n",
    "plt.show()"
   ]
  },
  {
   "cell_type": "code",
   "execution_count": null,
   "id": "dd1bad99",
   "metadata": {},
   "outputs": [],
   "source": [
    "plt.figure(figsize=(25,5))\n",
    "sns.pointplot(x='temp',y='count',data=df, hue='weather')\n",
    "plt.show()"
   ]
  },
  {
   "cell_type": "code",
   "execution_count": null,
   "id": "3f1668db",
   "metadata": {},
   "outputs": [],
   "source": [
    "df['datetime']= pd.DatetimeIndex(df['datetime'])\n",
    "df"
   ]
  },
  {
   "cell_type": "code",
   "execution_count": null,
   "id": "f68a2b17",
   "metadata": {},
   "outputs": [],
   "source": [
    "hour=[]\n",
    "for timestamp in df['datetime']:\n",
    "    hour = np.append(hour,timestamp.hour)"
   ]
  },
  {
   "cell_type": "code",
   "execution_count": null,
   "id": "1531b3aa",
   "metadata": {},
   "outputs": [],
   "source": [
    "hour[:10]"
   ]
  },
  {
   "cell_type": "code",
   "execution_count": null,
   "id": "d7469397",
   "metadata": {},
   "outputs": [],
   "source": [
    "df['datetime']=hour"
   ]
  },
  {
   "cell_type": "code",
   "execution_count": null,
   "id": "34910e69",
   "metadata": {},
   "outputs": [],
   "source": [
    "df.sample(10)"
   ]
  },
  {
   "cell_type": "code",
   "execution_count": null,
   "id": "060eb4e8",
   "metadata": {},
   "outputs": [],
   "source": [
    "sns.pointplot(x='datetime',y='count',data=df)\n",
    "plt.show()"
   ]
  },
  {
   "cell_type": "code",
   "execution_count": null,
   "id": "36a37d72",
   "metadata": {},
   "outputs": [],
   "source": [
    "df['season'].unique()"
   ]
  },
  {
   "cell_type": "code",
   "execution_count": null,
   "id": "ce7af1c9",
   "metadata": {},
   "outputs": [],
   "source": [
    "mapper = {'Spring':1,'Summer':3,'Fall':2,'Winter':0}\n",
    "df['season']= df['season'].map(mapper)"
   ]
  },
  {
   "cell_type": "code",
   "execution_count": null,
   "id": "b1a83b5a",
   "metadata": {},
   "outputs": [],
   "source": [
    "df.sample(5)"
   ]
  },
  {
   "cell_type": "code",
   "execution_count": null,
   "id": "66dccf05",
   "metadata": {},
   "outputs": [],
   "source": [
    "from collections import Counter"
   ]
  },
  {
   "cell_type": "code",
   "execution_count": null,
   "id": "9d83d1e8",
   "metadata": {},
   "outputs": [],
   "source": [
    "Counter(df['weather'])"
   ]
  },
  {
   "cell_type": "code",
   "execution_count": null,
   "id": "b0321ade",
   "metadata": {},
   "outputs": [],
   "source": [
    "df['weather']=df['weather'].replace('Heavy rain/snow','Light rain/snow')"
   ]
  },
  {
   "cell_type": "code",
   "execution_count": null,
   "id": "2d0a5e74",
   "metadata": {},
   "outputs": [],
   "source": [
    "Counter(df['weather'])"
   ]
  },
  {
   "cell_type": "code",
   "execution_count": null,
   "id": "c41e8d70",
   "metadata": {},
   "outputs": [],
   "source": [
    "mapper = {'clear':0,'cloudy':1,'Light rain/snow':2,}\n",
    "df['weather'] = df['weather'].map(mapper)\n"
   ]
  },
  {
   "cell_type": "code",
   "execution_count": null,
   "id": "cda790d4",
   "metadata": {},
   "outputs": [],
   "source": [
    "Counter(df['holiday'])"
   ]
  },
  {
   "cell_type": "code",
   "execution_count": null,
   "id": "3c796744",
   "metadata": {},
   "outputs": [],
   "source": [
    "mapper = {'Yes':0,'No':1,}\n",
    "df['holiday'] = df['holiday'].map(mapper)\n"
   ]
  },
  {
   "cell_type": "code",
   "execution_count": null,
   "id": "f32194ea",
   "metadata": {},
   "outputs": [],
   "source": [
    "df.sample(5)"
   ]
  },
  {
   "cell_type": "code",
   "execution_count": null,
   "id": "b04fe83e",
   "metadata": {},
   "outputs": [],
   "source": [
    "from sklearn.preprocessing import Standardscalar"
   ]
  },
  {
   "cell_type": "code",
   "execution_count": null,
   "id": "79e19837",
   "metadata": {},
   "outputs": [],
   "source": [
    "to_scale =['datetime','temp','humidity','windspeed']"
   ]
  },
  {
   "cell_type": "code",
   "execution_count": null,
   "id": "5d973c2c",
   "metadata": {},
   "outputs": [],
   "source": []
  }
 ],
 "metadata": {
  "kernelspec": {
   "display_name": "Python 3 (ipykernel)",
   "language": "python",
   "name": "python3"
  },
  "language_info": {
   "codemirror_mode": {
    "name": "ipython",
    "version": 3
   },
   "file_extension": ".py",
   "mimetype": "text/x-python",
   "name": "python",
   "nbconvert_exporter": "python",
   "pygments_lexer": "ipython3",
   "version": "3.10.9"
  }
 },
 "nbformat": 4,
 "nbformat_minor": 5
}
